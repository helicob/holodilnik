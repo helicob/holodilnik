{
 "cells": [
  {
   "cell_type": "code",
   "execution_count": 21,
   "metadata": {},
   "outputs": [
    {
     "data": {
      "text/plain": [
       "array([9, 8, 7, 6, 5, 4, 3, 2, 1, 0])"
      ]
     },
     "execution_count": 21,
     "metadata": {},
     "output_type": "execute_result"
    }
   ],
   "source": [
    "# Задание 1\n",
    "# Создайте numpy array с элементами от числа N до 0 (например, для N = 10 это будет\n",
    "# array([9, 8, 7, 6, 5, 4, 3, 2, 1, 0])).\n",
    "\n",
    "import numpy as np\n",
    "\n",
    "N = 10\n",
    "\n",
    "nparr = np.arange(0, N)\n",
    "fleppednparr = np.flip(nparr)\n",
    "\n",
    "fleppednparr"
   ]
  },
  {
   "cell_type": "code",
   "execution_count": 30,
   "metadata": {},
   "outputs": [
    {
     "data": {
      "text/plain": [
       "45"
      ]
     },
     "execution_count": 30,
     "metadata": {},
     "output_type": "execute_result"
    }
   ],
   "source": [
    "# Задание 2\n",
    "# Создайте диагональную матрицу с элементами от N до 0. Посчитайте сумму ее значений на диагонали.\n",
    "\n",
    "diagfleppednparr = np.diag(fleppednparr)\n",
    "np.sum(np.diagonal(diagfleppednparr))"
   ]
  },
  {
   "cell_type": "code",
   "execution_count": 35,
   "metadata": {},
   "outputs": [
    {
     "data": {
      "text/plain": [
       "array([ 0.46666667,  3.84444444, -5.55555556])"
      ]
     },
     "execution_count": 35,
     "metadata": {},
     "output_type": "execute_result"
    }
   ],
   "source": [
    "# Задание 3\n",
    "# Решите систему уравнений:\n",
    "# 4x + 2y + z = 4\n",
    "# x + 3y = 12\n",
    "# 5y + 4z = -3\n",
    "\n",
    "from numpy import linalg\n",
    "\n",
    "a = np.array([[4, 2, 1], [1, 3, 0], [0, 5, 4]])\n",
    "b = np.array([4, 12, -3])\n",
    "linalg.solve(a, b)"
   ]
  },
  {
   "cell_type": "code",
   "execution_count": 93,
   "metadata": {},
   "outputs": [
    {
     "name": "stdout",
     "output_type": "stream",
     "text": [
      "Самый похожий юзер с ID 8\n"
     ]
    }
   ],
   "source": [
    "# Имеется матрица покупок в интернет-магазине. Столбец А - ID пользователя.\n",
    "users_stats = np.array(\n",
    "    [\n",
    "        [2, 1, 0, 0, 0, 0],\n",
    "        [1, 1, 2, 1, 0, 0],\n",
    "        [2, 0, 1, 0, 0, 0],\n",
    "        [1, 1, 2, 1, 0, 1],\n",
    "        [0, 0, 1, 2, 0, 0],\n",
    "        [0, 0, 0, 0, 0, 5],\n",
    "        [1, 0, 0, 0, 0, 0],\n",
    "        [0, 1, 1, 0, 0, 0],\n",
    "        [0, 0, 0, 1, 1, 3],\n",
    "        [1, 0, 0, 2, 1, 4]\n",
    "    ], \n",
    "    np.int32\n",
    ")\n",
    "# Остальные столбцы - количество покупок категорий товаров этим пользователем:\n",
    "next_user_stats = np.array([0, 1, 2, 0, 0, 0])\n",
    "\n",
    "import matplotlib.pyplot as plt\n",
    "\n",
    "bestmatchuserid = 0\n",
    "\n",
    "for useridminusone, user_for_check in enumerate(users_stats):\n",
    "    next_user_stats = np.array([0, 1, 2, 0, 0, 0])\n",
    "\n",
    "#     ax = plt.axes() # этот блок рисует график сопоставления кривых\n",
    "#     plt.xlim([0, 5])\n",
    "#     plt.ylim([0, 5])\n",
    "#     plt.plot(next_user_stats)\n",
    "#     plt.plot(user_for_check)\n",
    "#     plt.show()\n",
    "\n",
    "    # расчёт длин кривых и индекса их косинусного сходства\n",
    "    currentcosindex = np.dot(next_user_stats, user_for_check) / (np.linalg.norm(next_user_stats) * np.linalg.norm(user_for_check))\n",
    "#     print(useridminusone + 1, currentcosindex)\n",
    "    if currentcosindex > bestmatch:\n",
    "        bestmatchuserid = useridminusone + 1 # +1 потому что по условию задачи в таблице юзеры\n",
    "                                             # нумеруются с еденицы, а не с нуля\n",
    "\n",
    "print(f'Самый похожий юзер с ID {bestmatchuserid}')"
   ]
  }
 ],
 "metadata": {
  "kernelspec": {
   "display_name": "Python 3",
   "language": "python",
   "name": "python3"
  },
  "language_info": {
   "codemirror_mode": {
    "name": "ipython",
    "version": 3
   },
   "file_extension": ".py",
   "mimetype": "text/x-python",
   "name": "python",
   "nbconvert_exporter": "python",
   "pygments_lexer": "ipython3",
   "version": "3.8.3"
  }
 },
 "nbformat": 4,
 "nbformat_minor": 4
}
