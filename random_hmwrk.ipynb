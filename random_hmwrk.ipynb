{
 "cells": [
  {
   "cell_type": "code",
   "execution_count": null,
   "metadata": {},
   "outputs": [],
   "source": [
    "import numpy as np"
   ]
  },
  {
   "cell_type": "code",
   "execution_count": 33,
   "metadata": {},
   "outputs": [
    {
     "name": "stdout",
     "output_type": "stream",
     "text": [
      "В среднем выигрыш с каждой попытки около: -0.1978529\n"
     ]
    }
   ],
   "source": [
    "# np.random.seed(None)\n",
    "trials = 10000000    # Количество попыток\n",
    "total_money = 1     # вот один рубль засовывается в автомат\n",
    "\n",
    "for i in range(trials):\n",
    "    random_score = np.random.randint(0, 1000)    # \n",
    "    total_money = total_money - 1\n",
    "    if random_score == 777:\n",
    "        total_money += 200\n",
    "    if random_score == 999:\n",
    "        total_money += 100\n",
    "    if random_score == 555:\n",
    "        total_money += 50\n",
    "    if random_score == 333:    \n",
    "        total_money += 15\n",
    "    if random_score == 111:\n",
    "        total_money += 10\n",
    "    if random_score % 100 == 77:\n",
    "        total_money += 5\n",
    "        continue\n",
    "    if random_score % 10 == 7:\n",
    "        total_money += 3\n",
    "    if random_score % 100 == 0:\n",
    "        total_money += 2\n",
    "        continue\n",
    "    if random_score % 10 == 0:\n",
    "        total_money += 1\n",
    "\n",
    "p_monte_carlo = total_money / trials    # Вероятность из моделирования\n",
    "\n",
    "print(f'В среднем выгода с каждой попытки около: {p_monte_carlo}')"
   ]
  },
  {
   "cell_type": "code",
   "execution_count": null,
   "metadata": {},
   "outputs": [],
   "source": []
  }
 ],
 "metadata": {
  "kernelspec": {
   "display_name": "Python 3",
   "language": "python",
   "name": "python3"
  },
  "language_info": {
   "codemirror_mode": {
    "name": "ipython",
    "version": 3
   },
   "file_extension": ".py",
   "mimetype": "text/x-python",
   "name": "python",
   "nbconvert_exporter": "python",
   "pygments_lexer": "ipython3",
   "version": "3.8.3"
  }
 },
 "nbformat": 4,
 "nbformat_minor": 4
}
