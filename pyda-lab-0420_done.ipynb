{
 "cells": [
  {
   "cell_type": "markdown",
   "metadata": {},
   "source": [
    "## Лабораторная работа по курсу «Python для анализа данных»"
   ]
  },
  {
   "cell_type": "markdown",
   "metadata": {},
   "source": [
    "### При выполнении работы допускается использование любых внешних модулей и пакетов. Готовые решения принимаются в виде ссылки на GitHub."
   ]
  },
  {
   "cell_type": "markdown",
   "metadata": {},
   "source": [
    "#### Задача 1"
   ]
  },
  {
   "cell_type": "markdown",
   "metadata": {},
   "source": [
    "Дана строка:"
   ]
  },
  {
   "cell_type": "code",
   "execution_count": null,
   "metadata": {},
   "outputs": [],
   "source": [
    "string_01 = \"History is always written by the winners. hen two cultures clash, the loser is obliterated, and the winner writes the history books-books which glorify their own cause and disparage the conquered foe. As Napoleon once said, 'What is history, but a fable agreed upon?\""
   ]
  },
  {
   "cell_type": "markdown",
   "metadata": {},
   "source": [
    "1. Посчитайте, сколько в строке символов, исключая пробелы:"
   ]
  },
  {
   "cell_type": "code",
   "execution_count": 63,
   "metadata": {},
   "outputs": [
    {
     "data": {
      "text/plain": [
       "223"
      ]
     },
     "execution_count": 63,
     "metadata": {},
     "output_type": "execute_result"
    }
   ],
   "source": [
    "res = len(string_01.replace(' ', ''))\n",
    "res"
   ]
  },
  {
   "cell_type": "markdown",
   "metadata": {},
   "source": [
    "2. Посчитайте, сколько в строке слов."
   ]
  },
  {
   "cell_type": "code",
   "execution_count": 10,
   "metadata": {},
   "outputs": [
    {
     "data": {
      "text/plain": [
       "44"
      ]
     },
     "execution_count": 10,
     "metadata": {},
     "output_type": "execute_result"
    }
   ],
   "source": [
    "res = len(string_01.split())\n",
    "res"
   ]
  },
  {
   "cell_type": "markdown",
   "metadata": {},
   "source": [
    "3. Напишите функцию, которая будет принимать в качестве аргумента букву и выводить все слова из строки, начинающиеся на эту букву (например, “w”)."
   ]
  },
  {
   "cell_type": "code",
   "execution_count": 62,
   "metadata": {},
   "outputs": [
    {
     "name": "stdout",
     "output_type": "stream",
     "text": [
      "written\n",
      "winners\n",
      "winner\n",
      "writes\n",
      "which\n",
      "what\n"
     ]
    }
   ],
   "source": [
    "def find_words_by_first_char(txt, char):\n",
    "    res = []\n",
    "    if len(char) < 2:\n",
    "        wordslist = txt.split()\n",
    "        for word in wordslist:\n",
    "            word = word.strip('.\\',').lower()\n",
    "            if word[0] == char:\n",
    "                res.append(word)\n",
    "        print('\\n'.join(res))\n",
    "        return\n",
    "    print('error: char len must be 1')\n",
    "    return\n",
    "\n",
    "find_words_by_first_char(string_01, 'w')"
   ]
  },
  {
   "cell_type": "markdown",
   "metadata": {},
   "source": [
    "#### Задача 2"
   ]
  },
  {
   "cell_type": "markdown",
   "metadata": {},
   "source": [
    "Напишите код, который будет генерировать случайную последовательность из 6 цифр, одна из которых должна быть 3. Позиция цифры 3 должна\n",
    "определяться случайным образом. Результат должен быть строкой. Например: \"456309\" или \"330127\"."
   ]
  },
  {
   "cell_type": "code",
   "execution_count": 44,
   "metadata": {},
   "outputs": [
    {
     "data": {
      "text/plain": [
       "['667733', '193092', '450358', '733838', '991362', '435833']"
      ]
     },
     "execution_count": 44,
     "metadata": {},
     "output_type": "execute_result"
    }
   ],
   "source": [
    "res = []\n",
    "for i in range(6):\n",
    "    num = str(random.randrange(100000, 999999, 1))\n",
    "    rndindex = random.randrange(0, 5, 1)\n",
    "    num = num[:rndindex] + '3' + num[rndindex + 1:]\n",
    "    res.append(num)\n",
    "\n",
    "res"
   ]
  },
  {
   "cell_type": "markdown",
   "metadata": {},
   "source": [
    "#### Задача 3"
   ]
  },
  {
   "cell_type": "markdown",
   "metadata": {},
   "source": [
    "Дан список:"
   ]
  },
  {
   "cell_type": "code",
   "execution_count": null,
   "metadata": {},
   "outputs": [],
   "source": [
    "list_01 = [1, 1, 2, 3, 5, 8, 13, 21, 34, 55, 89, 144, 233, 377, 610, 14, 46, 273, 22, 99, 15, 1000]"
   ]
  },
  {
   "cell_type": "markdown",
   "metadata": {},
   "source": [
    "Напишите алгоритм, который выводит сумму элементов списка, которые больше 10, но меньше 100, и которые больше 200, но меньше 500."
   ]
  },
  {
   "cell_type": "code",
   "execution_count": 61,
   "metadata": {},
   "outputs": [
    {
     "data": {
      "text/plain": [
       "1291"
      ]
     },
     "execution_count": 61,
     "metadata": {},
     "output_type": "execute_result"
    }
   ],
   "source": [
    "res = 0\n",
    "for num in list_01:\n",
    "    if (10 < num < 100) or (200 < num < 500):\n",
    "        res = res + num\n",
    "res"
   ]
  },
  {
   "cell_type": "markdown",
   "metadata": {},
   "source": [
    "#### Задача 4"
   ]
  },
  {
   "cell_type": "markdown",
   "metadata": {},
   "source": [
    "Данные студентов представлены в виде списка списков:"
   ]
  },
  {
   "cell_type": "code",
   "execution_count": null,
   "metadata": {},
   "outputs": [],
   "source": [
    "students = [\n",
    "[\"0001\", \"Антонов\", \"Антон\", \"Игоревич\", \"20.08.2009\",\"БСТ161\"],\n",
    "[\"1102\", \"Богов\", \"Артем\", \"Игоревич\", \"25.01.2010\",\"БСТ162\"],\n",
    "[\"0333\", \"Глаголева\", \"Анастасия\", \"Николаевна\", \"11.07.2009\", \"БСТ163\"],\n",
    "[\"4004\", \"Степанова\", \"Наталья\", \"Александровна\", \"13.02.2008\", \"БСТ161\"],\n",
    "[\"0045\", \"Боков\", \"Игорь\", \"Харитонович\", \"02.06.2009\", \"БСТ161\"],\n",
    "[\"0096\", \"Васильков\", \"Валентин\", \"Сергеевич\", \"20.03.2009\", \"БСТ164\"],\n",
    "[\"0607\", \"Сиропова\", \"Виолетта\", \"Эдуардовна\", \"28.05.2010\", \"БСТ162\"]\n",
    "    ]"
   ]
  },
  {
   "cell_type": "markdown",
   "metadata": {},
   "source": [
    "1. Преобразуйте данные таким образом, чтобы они были представлены в виде словаря, в котором ключами являются номера студентов, а значениями — список из других данных о студентах."
   ]
  },
  {
   "cell_type": "code",
   "execution_count": 75,
   "metadata": {},
   "outputs": [
    {
     "data": {
      "text/plain": [
       "{'0001': ['Антонов', 'Антон', 'Игоревич', '20.08.2009', 'БСТ161'],\n",
       " '1102': ['Богов', 'Артем', 'Игоревич', '25.01.2010', 'БСТ162'],\n",
       " '0333': ['Глаголева', 'Анастасия', 'Николаевна', '11.07.2009', 'БСТ163'],\n",
       " '4004': ['Степанова', 'Наталья', 'Александровна', '13.02.2008', 'БСТ161'],\n",
       " '0045': ['Боков', 'Игорь', 'Харитонович', '02.06.2009', 'БСТ161'],\n",
       " '0096': ['Васильков', 'Валентин', 'Сергеевич', '20.03.2009', 'БСТ164'],\n",
       " '0607': ['Сиропова', 'Виолетта', 'Эдуардовна', '28.05.2010', 'БСТ162']}"
      ]
     },
     "execution_count": 75,
     "metadata": {},
     "output_type": "execute_result"
    }
   ],
   "source": [
    "dct = {}\n",
    "\n",
    "for line in students:\n",
    "    dct[line[0]] = line[1:]\n",
    "\n",
    "dct"
   ]
  },
  {
   "cell_type": "markdown",
   "metadata": {},
   "source": [
    "2. Напишите функцию, которая принимает в качестве аргумента номер студента и новый номер группы и позволяет изменить номер группы этого студента на новый."
   ]
  },
  {
   "cell_type": "code",
   "execution_count": 76,
   "metadata": {},
   "outputs": [
    {
     "data": {
      "text/plain": [
       "{'0001': ['Антонов', 'Антон', 'Игоревич', '20.08.2009', 'БСТ161'],\n",
       " '1102': ['Богов', 'Артем', 'Игоревич', '25.01.2010', 'БСТ13'],\n",
       " '0333': ['Глаголева', 'Анастасия', 'Николаевна', '11.07.2009', 'БСТ163'],\n",
       " '4004': ['Степанова', 'Наталья', 'Александровна', '13.02.2008', 'БСТ161'],\n",
       " '0045': ['Боков', 'Игорь', 'Харитонович', '02.06.2009', 'БСТ161'],\n",
       " '0096': ['Васильков', 'Валентин', 'Сергеевич', '20.03.2009', 'БСТ164'],\n",
       " '0607': ['Сиропова', 'Виолетта', 'Эдуардовна', '28.05.2010', 'БСТ162']}"
      ]
     },
     "execution_count": 76,
     "metadata": {},
     "output_type": "execute_result"
    }
   ],
   "source": [
    "def change_group_by_num(num, group):\n",
    "    dct[num][4] = group\n",
    "    \n",
    "change_group_by_num('1102', 'БСТ13')\n",
    "dct"
   ]
  },
  {
   "cell_type": "markdown",
   "metadata": {},
   "source": [
    "3. Напишите функцию, которая принимает номер группы и выводит список (фамилии, имена, отчества) всех студентов этой группы."
   ]
  },
  {
   "cell_type": "code",
   "execution_count": 84,
   "metadata": {},
   "outputs": [
    {
     "name": "stdout",
     "output_type": "stream",
     "text": [
      "Богов Артем Игоревич\n"
     ]
    }
   ],
   "source": [
    "def show_students_by_group(groupnum):\n",
    "    for student in dct:\n",
    "        if dct[student][4] == groupnum:\n",
    "            print(f'{dct[student][0]} {dct[student][1]} {dct[student][2]}')\n",
    "\n",
    "show_students_by_group('БСТ13')"
   ]
  },
  {
   "cell_type": "markdown",
   "metadata": {},
   "source": [
    "#### Задача 5"
   ]
  },
  {
   "cell_type": "markdown",
   "metadata": {},
   "source": [
    "Дана матрица:"
   ]
  },
  {
   "cell_type": "code",
   "execution_count": 98,
   "metadata": {},
   "outputs": [],
   "source": [
    "matrix = [ \n",
    "    [0,1,2,4,8], \n",
    "    [6,2,2,1,9], \n",
    "    [3,3,3,3,3], \n",
    "    [4,6,7,1,2], \n",
    "    [5,7,3,4,0] \n",
    "]"
   ]
  },
  {
   "cell_type": "markdown",
   "metadata": {},
   "source": [
    "1. Выведите результат сложения всех элементов матрицы."
   ]
  },
  {
   "cell_type": "code",
   "execution_count": 99,
   "metadata": {},
   "outputs": [
    {
     "data": {
      "text/plain": [
       "89"
      ]
     },
     "execution_count": 99,
     "metadata": {},
     "output_type": "execute_result"
    }
   ],
   "source": [
    "res = 0\n",
    "for line in matrix:\n",
    "    res = res + sum(line)\n",
    "\n",
    "res"
   ]
  },
  {
   "cell_type": "markdown",
   "metadata": {},
   "source": [
    "2. Напишите алгоритм вычисления максимума из сумм элементов каждого столбца."
   ]
  },
  {
   "cell_type": "code",
   "execution_count": 100,
   "metadata": {},
   "outputs": [
    {
     "data": {
      "text/plain": [
       "22"
      ]
     },
     "execution_count": 100,
     "metadata": {},
     "output_type": "execute_result"
    }
   ],
   "source": [
    "maxcolumnsum = 0\n",
    "tmpcolumnsum = 0\n",
    "\n",
    "for i in range(len(matrix[0])):\n",
    "    for line in matrix:\n",
    "        tmpcolumnsum += line[i]\n",
    "    if tmpcolumnsum > maxcolumnsum:\n",
    "        maxcolumnsum = tmpcolumnsum\n",
    "    tmpcolumnsum = 0\n",
    "\n",
    "maxcolumnsum"
   ]
  }
 ],
 "metadata": {
  "kernelspec": {
   "display_name": "Python 3",
   "language": "python",
   "name": "python3"
  },
  "language_info": {
   "codemirror_mode": {
    "name": "ipython",
    "version": 3
   },
   "file_extension": ".py",
   "mimetype": "text/x-python",
   "name": "python",
   "nbconvert_exporter": "python",
   "pygments_lexer": "ipython3",
   "version": "3.8.3"
  }
 },
 "nbformat": 4,
 "nbformat_minor": 2
}
