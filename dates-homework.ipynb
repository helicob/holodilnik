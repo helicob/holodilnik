{
 "cells": [
  {
   "cell_type": "code",
   "execution_count": 13,
   "metadata": {},
   "outputs": [
    {
     "name": "stdout",
     "output_type": "stream",
     "text": [
      "2002-10-02 00:00:00\n",
      "2013-10-11 00:00:00\n",
      "1977-08-18 00:00:00\n"
     ]
    }
   ],
   "source": [
    "# Задание 1\n",
    "# Печатные газеты использовали свой формат дат для каждого выпуска. \n",
    "# Для каждой газеты из списка напишите формат указанной даты для перевода в объект datetime:\n",
    "# The Moscow Times - Wednesday, October 2, 2002\n",
    "# The Guardian - Friday, 11.10.13\n",
    "# Daily News - Thursday, 18 August 1977\n",
    "\n",
    "from datetime import datetime\n",
    "\n",
    "dates = ['Wednesday, October 2, 2002',\n",
    "'Friday, 11.10.13',\n",
    "'Thursday, 18 August 1977']\n",
    "\n",
    "print(datetime.strptime(dates[0], '%A, %B %d, %Y'))\n",
    "print(datetime.strptime(dates[1], '%A, %d.%m.%y'))\n",
    "print(datetime.strptime(dates[2], '%A, %d %B %Y'))\n"
   ]
  },
  {
   "cell_type": "code",
   "execution_count": 26,
   "metadata": {},
   "outputs": [
    {
     "name": "stdout",
     "output_type": "stream",
     "text": [
      "True\n",
      "False\n",
      "False\n"
     ]
    }
   ],
   "source": [
    "# Задание 2 Дан поток дат в формате YYYY-MM-DD, в которых встречаются\n",
    "# некорректные значения: stream = [‘2018-04-02’, ‘2018-02-29’, ‘2018-19-02’]\n",
    "# Напишите функцию, которая проверяет эти даты на корректность.\n",
    "# Т. е. для каждой даты возвращает True (дата корректна) или False (некорректная дата).\n",
    "\n",
    "from datetime import datetime\n",
    "\n",
    "stream = ['2018-04-02', '2018-02-29', '2018-19-02']\n",
    "\n",
    "def corretDateOrNot(strdate):\n",
    "    try:\n",
    "        datetime.strptime(strdate, '%Y-%m-%d')\n",
    "        return True\n",
    "    except:\n",
    "        return False\n",
    "\n",
    "for strdate in stream:\n",
    "    print(corretDateOrNot(strdate))\n"
   ]
  },
  {
   "cell_type": "code",
   "execution_count": 67,
   "metadata": {},
   "outputs": [
    {
     "name": "stdout",
     "output_type": "stream",
     "text": [
      "start_date: 2020-09-15\n",
      "end_date: 2020-10-3\n",
      "2020-09-15\n",
      "2020-09-16\n",
      "2020-09-17\n",
      "2020-09-18\n",
      "2020-09-19\n",
      "2020-09-20\n",
      "2020-09-21\n",
      "2020-09-22\n",
      "2020-09-23\n",
      "2020-09-24\n",
      "2020-09-25\n",
      "2020-09-26\n",
      "2020-09-27\n",
      "2020-09-28\n",
      "2020-09-29\n",
      "2020-09-30\n",
      "2020-10-01\n",
      "2020-10-02\n"
     ]
    }
   ],
   "source": [
    "# Задание 3 \n",
    "# Напишите функцию date_range, которая возвращает список дат за период от start_date до end_date.\n",
    "# Даты должны вводиться в формате YYYY-MM-DD. В случае неверного формата\n",
    "# или при start_date > end_date должен возвращаться пустой список.\n",
    "\n",
    "from datetime import datetime\n",
    "from datetime import timedelta\n",
    "\n",
    "start_date = input('start_date: ')\n",
    "end_date = input('end_date: ')\n",
    "\n",
    "result = []\n",
    "\n",
    "def date_range(start_date, end_date):\n",
    "    try:\n",
    "        start_date_datetime = datetime.strptime(start_date, '%Y-%m-%d')\n",
    "        end_date_datetime = datetime.strptime(end_date, '%Y-%m-%d')\n",
    "        delta = (end_date_datetime - start_date_datetime).days # перевёл разницу между датами в число\n",
    "        for i in range(delta):\n",
    "            result.append(start_date_datetime + timedelta(days=i))\n",
    "    except:\n",
    "        return result\n",
    "\n",
    "date_range(start_date, end_date)\n",
    "\n",
    "for date in result:\n",
    "    print(date.strftime('%Y-%m-%d'))"
   ]
  }
 ],
 "metadata": {
  "kernelspec": {
   "display_name": "Python 3",
   "language": "python",
   "name": "python3"
  },
  "language_info": {
   "codemirror_mode": {
    "name": "ipython",
    "version": 3
   },
   "file_extension": ".py",
   "mimetype": "text/x-python",
   "name": "python",
   "nbconvert_exporter": "python",
   "pygments_lexer": "ipython3",
   "version": "3.8.3"
  }
 },
 "nbformat": 4,
 "nbformat_minor": 4
}
