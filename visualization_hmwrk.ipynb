{
 "cells": [
  {
   "cell_type": "markdown",
   "metadata": {},
   "source": [
    "# Домашнее задание к лекции \"Визуализация данных\""
   ]
  },
  {
   "cell_type": "markdown",
   "metadata": {},
   "source": [
    "## Обязательная часть\n",
    "\n",
    "Вам необходимо провести базовый [EDA](https://en.wikipedia.org/wiki/Exploratory_data_analysis) выбранного набора данных. \n",
    "\n",
    "Требования к анализу:\n",
    "- построить не менее 4 визуализаций различных видов;\n",
    "- каждая визуализация должным образом оформлена и читается даже в отрыве от контекста; \n",
    "- по каждой визуализации необходимо написать вывод (какую гипотезу на ее основе можно выдвинуть?).\n",
    "\n",
    "**Откуда брать данные?**\n",
    "\n",
    "Можете взять свои рабочие данные, либо найти открытые данные (например, на [kaggle.com](https://www.kaggle.com/)) по интересующей вас предметной области (тогда не забудьте их выложить на github вместе с ноутбуком). Если идей нет, можете взять один из перечисленных ниже:\n",
    "- [данные приложений из Google Play](https://www.kaggle.com/lava18/google-play-store-apps);\n",
    "- [данные о видео из трендов YouTube](https://www.kaggle.com/datasnaek/youtube-new);\n",
    "- [данные об уровне счастья в разных странах](https://www.kaggle.com/unsdsn/world-happiness).\n"
   ]
  },
  {
   "cell_type": "markdown",
   "metadata": {},
   "source": [
    "### Дополнительная часть (необязательная)\n",
    "\n",
    "* построить дополнительно не менее 2 визуализаций (итого не менее 6);\n",
    "* в работе должны присутствовать следующие визуализации: boxplot, heatmap, scatter plot matrix;\n"
   ]
  },
  {
   "cell_type": "markdown",
   "metadata": {},
   "source": [
    "#### ПРИМЕЧАНИЕ\n",
    "Домашнее задание сдается ссылкой на репозиторий [GitHub](https://github.com/).\n",
    "Не сможем проверить или помочь, если вы пришлете:\n",
    "- файлы;\n",
    "- архивы;\n",
    "- скриншоты кода.\n",
    "\n",
    "Все обсуждения и консультации по выполнению домашнего задания ведутся только на соответствующем канале в slack.\n",
    "\n",
    "##### Как правильно задавать вопросы аспирантам, преподавателям и коллегам\n",
    "Прежде чем задать вопрос, попробуйте найти ответ в интернете. Навык самостоятельного поиска информации — один из важнейших. Каждый практикующий специалист любого уровня делает это ежедневно.\n",
    "\n",
    "Сформулируйте вопрос по алгоритму:  \n",
    "1) Что я делаю?  \n",
    "2) Какого результата я ожидаю?  \n",
    "3) Как фактический результат отличается от ожидаемого?  \n",
    "4) Что я уже попробовал сделать, чтобы исправить проблему?  \n",
    "\n",
    "По возможности прикрепите к вопросу скриншоты либо ссылки на код. Не выкладывайте все решение, оставляйте только проблемный и воспроизводимый участок кода."
   ]
  },
  {
   "cell_type": "code",
   "execution_count": 1,
   "metadata": {},
   "outputs": [],
   "source": [
    "import matplotlib.pyplot as plt\n",
    "import matplotlib.dates as mdates\n",
    "import pandas as pd\n",
    "import re\n",
    "\n",
    "from pylab import rcParams\n",
    "rcParams['figure.figsize'] = 13,6"
   ]
  },
  {
   "cell_type": "code",
   "execution_count": 2,
   "metadata": {},
   "outputs": [],
   "source": [
    "df = pd.read_csv('RUvideos.csv')"
   ]
  },
  {
   "cell_type": "code",
   "execution_count": 3,
   "metadata": {},
   "outputs": [
    {
     "data": {
      "text/html": [
       "<div>\n",
       "<style scoped>\n",
       "    .dataframe tbody tr th:only-of-type {\n",
       "        vertical-align: middle;\n",
       "    }\n",
       "\n",
       "    .dataframe tbody tr th {\n",
       "        vertical-align: top;\n",
       "    }\n",
       "\n",
       "    .dataframe thead th {\n",
       "        text-align: right;\n",
       "    }\n",
       "</style>\n",
       "<table border=\"1\" class=\"dataframe\">\n",
       "  <thead>\n",
       "    <tr style=\"text-align: right;\">\n",
       "      <th></th>\n",
       "      <th>video_id</th>\n",
       "      <th>trending_date</th>\n",
       "      <th>title</th>\n",
       "      <th>channel_title</th>\n",
       "      <th>category_id</th>\n",
       "      <th>publish_time</th>\n",
       "      <th>tags</th>\n",
       "      <th>views</th>\n",
       "      <th>likes</th>\n",
       "      <th>dislikes</th>\n",
       "      <th>comment_count</th>\n",
       "      <th>thumbnail_link</th>\n",
       "      <th>comments_disabled</th>\n",
       "      <th>ratings_disabled</th>\n",
       "      <th>video_error_or_removed</th>\n",
       "      <th>description</th>\n",
       "    </tr>\n",
       "  </thead>\n",
       "  <tbody>\n",
       "    <tr>\n",
       "      <th>0</th>\n",
       "      <td>gDuslQ9avLc</td>\n",
       "      <td>17.14.11</td>\n",
       "      <td>Захар и Полина учатся экономить</td>\n",
       "      <td>Т—Ж БОГАЧ</td>\n",
       "      <td>22</td>\n",
       "      <td>2017-11-13T09:09:31.000Z</td>\n",
       "      <td>захар и полина|\"учимся экономить\"|\"копить день...</td>\n",
       "      <td>62408</td>\n",
       "      <td>334</td>\n",
       "      <td>190</td>\n",
       "      <td>50</td>\n",
       "      <td>https://i.ytimg.com/vi/gDuslQ9avLc/default.jpg</td>\n",
       "      <td>False</td>\n",
       "      <td>False</td>\n",
       "      <td>False</td>\n",
       "      <td>Знакомьтесь, это Захар и Полина. Вместе с ними...</td>\n",
       "    </tr>\n",
       "    <tr>\n",
       "      <th>1</th>\n",
       "      <td>AOCJIFEA_jE</td>\n",
       "      <td>17.14.11</td>\n",
       "      <td>Биржа Мемов #29. Большой выпуск</td>\n",
       "      <td>Druzhko Show</td>\n",
       "      <td>22</td>\n",
       "      <td>2017-11-13T17:32:11.000Z</td>\n",
       "      <td>биржа мемов|\"лев шагинян\"|\"мемы\"|\"пикчи\"|\"друж...</td>\n",
       "      <td>330043</td>\n",
       "      <td>43841</td>\n",
       "      <td>2244</td>\n",
       "      <td>2977</td>\n",
       "      <td>https://i.ytimg.com/vi/AOCJIFEA_jE/default.jpg</td>\n",
       "      <td>False</td>\n",
       "      <td>False</td>\n",
       "      <td>False</td>\n",
       "      <td>В 29 выпуске Дружко Шоу Сергей сказал, что Бир...</td>\n",
       "    </tr>\n",
       "    <tr>\n",
       "      <th>2</th>\n",
       "      <td>VAWNQDgwwOM</td>\n",
       "      <td>17.14.11</td>\n",
       "      <td>ХАЙП КЭМП - СВОЙ СРЕДИ ЧУЖИХ</td>\n",
       "      <td>Юлик</td>\n",
       "      <td>24</td>\n",
       "      <td>2017-11-13T16:11:31.000Z</td>\n",
       "      <td>юмор|\"комедия\"|\"влог\"|\"блог\"|\"смешно\"|\"смешное...</td>\n",
       "      <td>424596</td>\n",
       "      <td>49854</td>\n",
       "      <td>714</td>\n",
       "      <td>2944</td>\n",
       "      <td>https://i.ytimg.com/vi/VAWNQDgwwOM/default.jpg</td>\n",
       "      <td>False</td>\n",
       "      <td>False</td>\n",
       "      <td>False</td>\n",
       "      <td>http://kapitany.ru/!Yulik.cap - Факультет #Кап...</td>\n",
       "    </tr>\n",
       "    <tr>\n",
       "      <th>3</th>\n",
       "      <td>gknkFwKQfHg</td>\n",
       "      <td>17.14.11</td>\n",
       "      <td>Сочная кесадилья с курицей</td>\n",
       "      <td>Hochland</td>\n",
       "      <td>22</td>\n",
       "      <td>2017-11-13T06:51:10.000Z</td>\n",
       "      <td>хохланд|\"сыр\"|\"рецепты\"|\"как приготовить\"|\"вку...</td>\n",
       "      <td>112851</td>\n",
       "      <td>3566</td>\n",
       "      <td>122</td>\n",
       "      <td>80</td>\n",
       "      <td>https://i.ytimg.com/vi/gknkFwKQfHg/default.jpg</td>\n",
       "      <td>False</td>\n",
       "      <td>False</td>\n",
       "      <td>False</td>\n",
       "      <td>*** как готовить ресторанные блюда дома</td>\n",
       "    </tr>\n",
       "    <tr>\n",
       "      <th>4</th>\n",
       "      <td>3sYvZcwzZr8</td>\n",
       "      <td>17.14.11</td>\n",
       "      <td>КЛИПЫ РОДИТЕЛЕЙ НА ШКОЛЬНЫЙ ВЫПУСКНОЙ</td>\n",
       "      <td>Совергон</td>\n",
       "      <td>24</td>\n",
       "      <td>2017-11-13T16:52:36.000Z</td>\n",
       "      <td>Совергон|\"Sovergon\"|\"клипы\"|\"родители\"|\"школа\"...</td>\n",
       "      <td>243469</td>\n",
       "      <td>36216</td>\n",
       "      <td>631</td>\n",
       "      <td>1692</td>\n",
       "      <td>https://i.ytimg.com/vi/3sYvZcwzZr8/default.jpg</td>\n",
       "      <td>False</td>\n",
       "      <td>False</td>\n",
       "      <td>False</td>\n",
       "      <td>❏ КОНКУРС КАПИТАНЫ: http://kapitany.ru/!Soverg...</td>\n",
       "    </tr>\n",
       "    <tr>\n",
       "      <th>...</th>\n",
       "      <td>...</td>\n",
       "      <td>...</td>\n",
       "      <td>...</td>\n",
       "      <td>...</td>\n",
       "      <td>...</td>\n",
       "      <td>...</td>\n",
       "      <td>...</td>\n",
       "      <td>...</td>\n",
       "      <td>...</td>\n",
       "      <td>...</td>\n",
       "      <td>...</td>\n",
       "      <td>...</td>\n",
       "      <td>...</td>\n",
       "      <td>...</td>\n",
       "      <td>...</td>\n",
       "      <td>...</td>\n",
       "    </tr>\n",
       "    <tr>\n",
       "      <th>40734</th>\n",
       "      <td>OMmR9THjVKM</td>\n",
       "      <td>18.14.06</td>\n",
       "      <td>У меня СДВГ! (Story booth на русском) Русская ...</td>\n",
       "      <td>Pastime Time</td>\n",
       "      <td>22</td>\n",
       "      <td>2018-06-13T13:47:01.000Z</td>\n",
       "      <td>story booth на русском|\"story booth перевод\"|\"...</td>\n",
       "      <td>129488</td>\n",
       "      <td>5893</td>\n",
       "      <td>164</td>\n",
       "      <td>990</td>\n",
       "      <td>https://i.ytimg.com/vi/OMmR9THjVKM/default.jpg</td>\n",
       "      <td>False</td>\n",
       "      <td>False</td>\n",
       "      <td>False</td>\n",
       "      <td>Котики в Blade and Soul - https://bit.ly/2JoOq...</td>\n",
       "    </tr>\n",
       "    <tr>\n",
       "      <th>40735</th>\n",
       "      <td>tX7p7NtNVDE</td>\n",
       "      <td>18.14.06</td>\n",
       "      <td>Мои Детские Травмы 2 (анимация)</td>\n",
       "      <td>CaGArt</td>\n",
       "      <td>23</td>\n",
       "      <td>2018-06-12T09:38:38.000Z</td>\n",
       "      <td>кагарт|\"каги\"|\"цагарт\"|\"гагарт\"|\"какарт\"|\"милш...</td>\n",
       "      <td>99163</td>\n",
       "      <td>4659</td>\n",
       "      <td>337</td>\n",
       "      <td>692</td>\n",
       "      <td>https://i.ytimg.com/vi/tX7p7NtNVDE/default.jpg</td>\n",
       "      <td>False</td>\n",
       "      <td>False</td>\n",
       "      <td>False</td>\n",
       "      <td>Мои Детские Травмы 2 (анимация)           ▶️Ск...</td>\n",
       "    </tr>\n",
       "    <tr>\n",
       "      <th>40736</th>\n",
       "      <td>KAyj5Xm1C64</td>\n",
       "      <td>18.14.06</td>\n",
       "      <td>[ENG SUB] BTS PROM PARTY 2018 Intro + 2nd Gran...</td>\n",
       "      <td>DaisyxBTS 07</td>\n",
       "      <td>24</td>\n",
       "      <td>2018-06-13T12:51:23.000Z</td>\n",
       "      <td>[none]</td>\n",
       "      <td>449611</td>\n",
       "      <td>24808</td>\n",
       "      <td>93</td>\n",
       "      <td>974</td>\n",
       "      <td>https://i.ytimg.com/vi/KAyj5Xm1C64/default.jpg</td>\n",
       "      <td>False</td>\n",
       "      <td>False</td>\n",
       "      <td>False</td>\n",
       "      <td>***I do NOT own anything. Just want to share t...</td>\n",
       "    </tr>\n",
       "    <tr>\n",
       "      <th>40737</th>\n",
       "      <td>4PiSLIrsSiY</td>\n",
       "      <td>18.14.06</td>\n",
       "      <td>ОБЗОР ВАННОЙ КОМНАТЫ🛁/ТУАЛЕТНОЙ КОМНАТЫ🚽 + ДЕК...</td>\n",
       "      <td>Ксюша Лебедева</td>\n",
       "      <td>22</td>\n",
       "      <td>2018-06-13T00:23:33.000Z</td>\n",
       "      <td>рум тур ванной комнаты|\"room tour bathroom\"|\"д...</td>\n",
       "      <td>14225</td>\n",
       "      <td>793</td>\n",
       "      <td>39</td>\n",
       "      <td>209</td>\n",
       "      <td>https://i.ytimg.com/vi/4PiSLIrsSiY/default.jpg</td>\n",
       "      <td>False</td>\n",
       "      <td>False</td>\n",
       "      <td>False</td>\n",
       "      <td>Обзор ванной комнаты, туалетной комнаты+ декор...</td>\n",
       "    </tr>\n",
       "    <tr>\n",
       "      <th>40738</th>\n",
       "      <td>Ehy5foVfKOE</td>\n",
       "      <td>18.14.06</td>\n",
       "      <td>Плохой сигнал. Стань человеком!</td>\n",
       "      <td>Tubus Show</td>\n",
       "      <td>29</td>\n",
       "      <td>2018-06-13T09:50:09.000Z</td>\n",
       "      <td>плохой сигнал|\"тубус шоу\"|\"reebok\"|\"стань чело...</td>\n",
       "      <td>52340</td>\n",
       "      <td>7708</td>\n",
       "      <td>133</td>\n",
       "      <td>1819</td>\n",
       "      <td>https://i.ytimg.com/vi/Ehy5foVfKOE/default.jpg</td>\n",
       "      <td>False</td>\n",
       "      <td>False</td>\n",
       "      <td>False</td>\n",
       "      <td>В 90-х годах прошлого века произошло коренное ...</td>\n",
       "    </tr>\n",
       "  </tbody>\n",
       "</table>\n",
       "<p>40739 rows × 16 columns</p>\n",
       "</div>"
      ],
      "text/plain": [
       "          video_id trending_date  \\\n",
       "0      gDuslQ9avLc      17.14.11   \n",
       "1      AOCJIFEA_jE      17.14.11   \n",
       "2      VAWNQDgwwOM      17.14.11   \n",
       "3      gknkFwKQfHg      17.14.11   \n",
       "4      3sYvZcwzZr8      17.14.11   \n",
       "...            ...           ...   \n",
       "40734  OMmR9THjVKM      18.14.06   \n",
       "40735  tX7p7NtNVDE      18.14.06   \n",
       "40736  KAyj5Xm1C64      18.14.06   \n",
       "40737  4PiSLIrsSiY      18.14.06   \n",
       "40738  Ehy5foVfKOE      18.14.06   \n",
       "\n",
       "                                                   title   channel_title  \\\n",
       "0                        Захар и Полина учатся экономить       Т—Ж БОГАЧ   \n",
       "1                       Биржа Мемов #29. Большой выпуск    Druzhko Show   \n",
       "2                           ХАЙП КЭМП - СВОЙ СРЕДИ ЧУЖИХ            Юлик   \n",
       "3                             Сочная кесадилья с курицей        Hochland   \n",
       "4                  КЛИПЫ РОДИТЕЛЕЙ НА ШКОЛЬНЫЙ ВЫПУСКНОЙ        Совергон   \n",
       "...                                                  ...             ...   \n",
       "40734  У меня СДВГ! (Story booth на русском) Русская ...    Pastime Time   \n",
       "40735                    Мои Детские Травмы 2 (анимация)          CaGArt   \n",
       "40736  [ENG SUB] BTS PROM PARTY 2018 Intro + 2nd Gran...    DaisyxBTS 07   \n",
       "40737  ОБЗОР ВАННОЙ КОМНАТЫ🛁/ТУАЛЕТНОЙ КОМНАТЫ🚽 + ДЕК...  Ксюша Лебедева   \n",
       "40738                    Плохой сигнал. Стань человеком!      Tubus Show   \n",
       "\n",
       "       category_id              publish_time  \\\n",
       "0               22  2017-11-13T09:09:31.000Z   \n",
       "1               22  2017-11-13T17:32:11.000Z   \n",
       "2               24  2017-11-13T16:11:31.000Z   \n",
       "3               22  2017-11-13T06:51:10.000Z   \n",
       "4               24  2017-11-13T16:52:36.000Z   \n",
       "...            ...                       ...   \n",
       "40734           22  2018-06-13T13:47:01.000Z   \n",
       "40735           23  2018-06-12T09:38:38.000Z   \n",
       "40736           24  2018-06-13T12:51:23.000Z   \n",
       "40737           22  2018-06-13T00:23:33.000Z   \n",
       "40738           29  2018-06-13T09:50:09.000Z   \n",
       "\n",
       "                                                    tags   views  likes  \\\n",
       "0      захар и полина|\"учимся экономить\"|\"копить день...   62408    334   \n",
       "1      биржа мемов|\"лев шагинян\"|\"мемы\"|\"пикчи\"|\"друж...  330043  43841   \n",
       "2      юмор|\"комедия\"|\"влог\"|\"блог\"|\"смешно\"|\"смешное...  424596  49854   \n",
       "3      хохланд|\"сыр\"|\"рецепты\"|\"как приготовить\"|\"вку...  112851   3566   \n",
       "4      Совергон|\"Sovergon\"|\"клипы\"|\"родители\"|\"школа\"...  243469  36216   \n",
       "...                                                  ...     ...    ...   \n",
       "40734  story booth на русском|\"story booth перевод\"|\"...  129488   5893   \n",
       "40735  кагарт|\"каги\"|\"цагарт\"|\"гагарт\"|\"какарт\"|\"милш...   99163   4659   \n",
       "40736                                             [none]  449611  24808   \n",
       "40737  рум тур ванной комнаты|\"room tour bathroom\"|\"д...   14225    793   \n",
       "40738  плохой сигнал|\"тубус шоу\"|\"reebok\"|\"стань чело...   52340   7708   \n",
       "\n",
       "       dislikes  comment_count  \\\n",
       "0           190             50   \n",
       "1          2244           2977   \n",
       "2           714           2944   \n",
       "3           122             80   \n",
       "4           631           1692   \n",
       "...         ...            ...   \n",
       "40734       164            990   \n",
       "40735       337            692   \n",
       "40736        93            974   \n",
       "40737        39            209   \n",
       "40738       133           1819   \n",
       "\n",
       "                                       thumbnail_link  comments_disabled  \\\n",
       "0      https://i.ytimg.com/vi/gDuslQ9avLc/default.jpg              False   \n",
       "1      https://i.ytimg.com/vi/AOCJIFEA_jE/default.jpg              False   \n",
       "2      https://i.ytimg.com/vi/VAWNQDgwwOM/default.jpg              False   \n",
       "3      https://i.ytimg.com/vi/gknkFwKQfHg/default.jpg              False   \n",
       "4      https://i.ytimg.com/vi/3sYvZcwzZr8/default.jpg              False   \n",
       "...                                               ...                ...   \n",
       "40734  https://i.ytimg.com/vi/OMmR9THjVKM/default.jpg              False   \n",
       "40735  https://i.ytimg.com/vi/tX7p7NtNVDE/default.jpg              False   \n",
       "40736  https://i.ytimg.com/vi/KAyj5Xm1C64/default.jpg              False   \n",
       "40737  https://i.ytimg.com/vi/4PiSLIrsSiY/default.jpg              False   \n",
       "40738  https://i.ytimg.com/vi/Ehy5foVfKOE/default.jpg              False   \n",
       "\n",
       "       ratings_disabled  video_error_or_removed  \\\n",
       "0                 False                   False   \n",
       "1                 False                   False   \n",
       "2                 False                   False   \n",
       "3                 False                   False   \n",
       "4                 False                   False   \n",
       "...                 ...                     ...   \n",
       "40734             False                   False   \n",
       "40735             False                   False   \n",
       "40736             False                   False   \n",
       "40737             False                   False   \n",
       "40738             False                   False   \n",
       "\n",
       "                                             description  \n",
       "0      Знакомьтесь, это Захар и Полина. Вместе с ними...  \n",
       "1      В 29 выпуске Дружко Шоу Сергей сказал, что Бир...  \n",
       "2      http://kapitany.ru/!Yulik.cap - Факультет #Кап...  \n",
       "3                *** как готовить ресторанные блюда дома  \n",
       "4      ❏ КОНКУРС КАПИТАНЫ: http://kapitany.ru/!Soverg...  \n",
       "...                                                  ...  \n",
       "40734  Котики в Blade and Soul - https://bit.ly/2JoOq...  \n",
       "40735  Мои Детские Травмы 2 (анимация)           ▶️Ск...  \n",
       "40736  ***I do NOT own anything. Just want to share t...  \n",
       "40737  Обзор ванной комнаты, туалетной комнаты+ декор...  \n",
       "40738  В 90-х годах прошлого века произошло коренное ...  \n",
       "\n",
       "[40739 rows x 16 columns]"
      ]
     },
     "execution_count": 3,
     "metadata": {},
     "output_type": "execute_result"
    }
   ],
   "source": [
    "df"
   ]
  },
  {
   "cell_type": "code",
   "execution_count": 4,
   "metadata": {
    "scrolled": false
   },
   "outputs": [
    {
     "name": "stdout",
     "output_type": "stream",
     "text": [
      "<class 'pandas.core.frame.DataFrame'>\n",
      "RangeIndex: 40739 entries, 0 to 40738\n",
      "Data columns (total 16 columns):\n",
      " #   Column                  Non-Null Count  Dtype \n",
      "---  ------                  --------------  ----- \n",
      " 0   video_id                40739 non-null  object\n",
      " 1   trending_date           40739 non-null  object\n",
      " 2   title                   40739 non-null  object\n",
      " 3   channel_title           40739 non-null  object\n",
      " 4   category_id             40739 non-null  int64 \n",
      " 5   publish_time            40739 non-null  object\n",
      " 6   tags                    40739 non-null  object\n",
      " 7   views                   40739 non-null  int64 \n",
      " 8   likes                   40739 non-null  int64 \n",
      " 9   dislikes                40739 non-null  int64 \n",
      " 10  comment_count           40739 non-null  int64 \n",
      " 11  thumbnail_link          40739 non-null  object\n",
      " 12  comments_disabled       40739 non-null  bool  \n",
      " 13  ratings_disabled        40739 non-null  bool  \n",
      " 14  video_error_or_removed  40739 non-null  bool  \n",
      " 15  description             38275 non-null  object\n",
      "dtypes: bool(3), int64(5), object(8)\n",
      "memory usage: 4.2+ MB\n"
     ]
    }
   ],
   "source": [
    "df.info()"
   ]
  },
  {
   "cell_type": "code",
   "execution_count": 5,
   "metadata": {},
   "outputs": [],
   "source": [
    "df['trending_date'] = pd.to_datetime(df['trending_date'], format='%y.%d.%m') # привёл дату к datetime, вдруг пригодится\n",
    "df['publish_time'] = pd.to_datetime(df['publish_time']) # привёл дату к datetime, вдруг пригодится"
   ]
  },
  {
   "cell_type": "code",
   "execution_count": 6,
   "metadata": {
    "scrolled": false
   },
   "outputs": [
    {
     "data": {
      "text/html": [
       "<div>\n",
       "<style scoped>\n",
       "    .dataframe tbody tr th:only-of-type {\n",
       "        vertical-align: middle;\n",
       "    }\n",
       "\n",
       "    .dataframe tbody tr th {\n",
       "        vertical-align: top;\n",
       "    }\n",
       "\n",
       "    .dataframe thead th {\n",
       "        text-align: right;\n",
       "    }\n",
       "</style>\n",
       "<table border=\"1\" class=\"dataframe\">\n",
       "  <thead>\n",
       "    <tr style=\"text-align: right;\">\n",
       "      <th></th>\n",
       "      <th>video_id</th>\n",
       "      <th>trending_date</th>\n",
       "      <th>title</th>\n",
       "      <th>channel_title</th>\n",
       "      <th>category_id</th>\n",
       "      <th>publish_time</th>\n",
       "      <th>tags</th>\n",
       "      <th>views</th>\n",
       "      <th>likes</th>\n",
       "      <th>dislikes</th>\n",
       "      <th>comment_count</th>\n",
       "      <th>thumbnail_link</th>\n",
       "      <th>comments_disabled</th>\n",
       "      <th>ratings_disabled</th>\n",
       "      <th>video_error_or_removed</th>\n",
       "      <th>description</th>\n",
       "    </tr>\n",
       "  </thead>\n",
       "  <tbody>\n",
       "    <tr>\n",
       "      <th>0</th>\n",
       "      <td>gDuslQ9avLc</td>\n",
       "      <td>2017-11-14</td>\n",
       "      <td>Захар и Полина учатся экономить</td>\n",
       "      <td>Т—Ж БОГАЧ</td>\n",
       "      <td>22</td>\n",
       "      <td>2017-11-13 09:09:31+00:00</td>\n",
       "      <td>захар и полина|\"учимся экономить\"|\"копить день...</td>\n",
       "      <td>62408</td>\n",
       "      <td>334</td>\n",
       "      <td>190</td>\n",
       "      <td>50</td>\n",
       "      <td>https://i.ytimg.com/vi/gDuslQ9avLc/default.jpg</td>\n",
       "      <td>False</td>\n",
       "      <td>False</td>\n",
       "      <td>False</td>\n",
       "      <td>Знакомьтесь, это Захар и Полина. Вместе с ними...</td>\n",
       "    </tr>\n",
       "    <tr>\n",
       "      <th>1</th>\n",
       "      <td>AOCJIFEA_jE</td>\n",
       "      <td>2017-11-14</td>\n",
       "      <td>Биржа Мемов #29. Большой выпуск</td>\n",
       "      <td>Druzhko Show</td>\n",
       "      <td>22</td>\n",
       "      <td>2017-11-13 17:32:11+00:00</td>\n",
       "      <td>биржа мемов|\"лев шагинян\"|\"мемы\"|\"пикчи\"|\"друж...</td>\n",
       "      <td>330043</td>\n",
       "      <td>43841</td>\n",
       "      <td>2244</td>\n",
       "      <td>2977</td>\n",
       "      <td>https://i.ytimg.com/vi/AOCJIFEA_jE/default.jpg</td>\n",
       "      <td>False</td>\n",
       "      <td>False</td>\n",
       "      <td>False</td>\n",
       "      <td>В 29 выпуске Дружко Шоу Сергей сказал, что Бир...</td>\n",
       "    </tr>\n",
       "    <tr>\n",
       "      <th>2</th>\n",
       "      <td>VAWNQDgwwOM</td>\n",
       "      <td>2017-11-14</td>\n",
       "      <td>ХАЙП КЭМП - СВОЙ СРЕДИ ЧУЖИХ</td>\n",
       "      <td>Юлик</td>\n",
       "      <td>24</td>\n",
       "      <td>2017-11-13 16:11:31+00:00</td>\n",
       "      <td>юмор|\"комедия\"|\"влог\"|\"блог\"|\"смешно\"|\"смешное...</td>\n",
       "      <td>424596</td>\n",
       "      <td>49854</td>\n",
       "      <td>714</td>\n",
       "      <td>2944</td>\n",
       "      <td>https://i.ytimg.com/vi/VAWNQDgwwOM/default.jpg</td>\n",
       "      <td>False</td>\n",
       "      <td>False</td>\n",
       "      <td>False</td>\n",
       "      <td>http://kapitany.ru/!Yulik.cap - Факультет #Кап...</td>\n",
       "    </tr>\n",
       "    <tr>\n",
       "      <th>3</th>\n",
       "      <td>gknkFwKQfHg</td>\n",
       "      <td>2017-11-14</td>\n",
       "      <td>Сочная кесадилья с курицей</td>\n",
       "      <td>Hochland</td>\n",
       "      <td>22</td>\n",
       "      <td>2017-11-13 06:51:10+00:00</td>\n",
       "      <td>хохланд|\"сыр\"|\"рецепты\"|\"как приготовить\"|\"вку...</td>\n",
       "      <td>112851</td>\n",
       "      <td>3566</td>\n",
       "      <td>122</td>\n",
       "      <td>80</td>\n",
       "      <td>https://i.ytimg.com/vi/gknkFwKQfHg/default.jpg</td>\n",
       "      <td>False</td>\n",
       "      <td>False</td>\n",
       "      <td>False</td>\n",
       "      <td>*** как готовить ресторанные блюда дома</td>\n",
       "    </tr>\n",
       "    <tr>\n",
       "      <th>4</th>\n",
       "      <td>3sYvZcwzZr8</td>\n",
       "      <td>2017-11-14</td>\n",
       "      <td>КЛИПЫ РОДИТЕЛЕЙ НА ШКОЛЬНЫЙ ВЫПУСКНОЙ</td>\n",
       "      <td>Совергон</td>\n",
       "      <td>24</td>\n",
       "      <td>2017-11-13 16:52:36+00:00</td>\n",
       "      <td>Совергон|\"Sovergon\"|\"клипы\"|\"родители\"|\"школа\"...</td>\n",
       "      <td>243469</td>\n",
       "      <td>36216</td>\n",
       "      <td>631</td>\n",
       "      <td>1692</td>\n",
       "      <td>https://i.ytimg.com/vi/3sYvZcwzZr8/default.jpg</td>\n",
       "      <td>False</td>\n",
       "      <td>False</td>\n",
       "      <td>False</td>\n",
       "      <td>❏ КОНКУРС КАПИТАНЫ: http://kapitany.ru/!Soverg...</td>\n",
       "    </tr>\n",
       "    <tr>\n",
       "      <th>...</th>\n",
       "      <td>...</td>\n",
       "      <td>...</td>\n",
       "      <td>...</td>\n",
       "      <td>...</td>\n",
       "      <td>...</td>\n",
       "      <td>...</td>\n",
       "      <td>...</td>\n",
       "      <td>...</td>\n",
       "      <td>...</td>\n",
       "      <td>...</td>\n",
       "      <td>...</td>\n",
       "      <td>...</td>\n",
       "      <td>...</td>\n",
       "      <td>...</td>\n",
       "      <td>...</td>\n",
       "      <td>...</td>\n",
       "    </tr>\n",
       "    <tr>\n",
       "      <th>40734</th>\n",
       "      <td>OMmR9THjVKM</td>\n",
       "      <td>2018-06-14</td>\n",
       "      <td>У меня СДВГ! (Story booth на русском) Русская ...</td>\n",
       "      <td>Pastime Time</td>\n",
       "      <td>22</td>\n",
       "      <td>2018-06-13 13:47:01+00:00</td>\n",
       "      <td>story booth на русском|\"story booth перевод\"|\"...</td>\n",
       "      <td>129488</td>\n",
       "      <td>5893</td>\n",
       "      <td>164</td>\n",
       "      <td>990</td>\n",
       "      <td>https://i.ytimg.com/vi/OMmR9THjVKM/default.jpg</td>\n",
       "      <td>False</td>\n",
       "      <td>False</td>\n",
       "      <td>False</td>\n",
       "      <td>Котики в Blade and Soul - https://bit.ly/2JoOq...</td>\n",
       "    </tr>\n",
       "    <tr>\n",
       "      <th>40735</th>\n",
       "      <td>tX7p7NtNVDE</td>\n",
       "      <td>2018-06-14</td>\n",
       "      <td>Мои Детские Травмы 2 (анимация)</td>\n",
       "      <td>CaGArt</td>\n",
       "      <td>23</td>\n",
       "      <td>2018-06-12 09:38:38+00:00</td>\n",
       "      <td>кагарт|\"каги\"|\"цагарт\"|\"гагарт\"|\"какарт\"|\"милш...</td>\n",
       "      <td>99163</td>\n",
       "      <td>4659</td>\n",
       "      <td>337</td>\n",
       "      <td>692</td>\n",
       "      <td>https://i.ytimg.com/vi/tX7p7NtNVDE/default.jpg</td>\n",
       "      <td>False</td>\n",
       "      <td>False</td>\n",
       "      <td>False</td>\n",
       "      <td>Мои Детские Травмы 2 (анимация)           ▶️Ск...</td>\n",
       "    </tr>\n",
       "    <tr>\n",
       "      <th>40736</th>\n",
       "      <td>KAyj5Xm1C64</td>\n",
       "      <td>2018-06-14</td>\n",
       "      <td>[ENG SUB] BTS PROM PARTY 2018 Intro + 2nd Gran...</td>\n",
       "      <td>DaisyxBTS 07</td>\n",
       "      <td>24</td>\n",
       "      <td>2018-06-13 12:51:23+00:00</td>\n",
       "      <td>[none]</td>\n",
       "      <td>449611</td>\n",
       "      <td>24808</td>\n",
       "      <td>93</td>\n",
       "      <td>974</td>\n",
       "      <td>https://i.ytimg.com/vi/KAyj5Xm1C64/default.jpg</td>\n",
       "      <td>False</td>\n",
       "      <td>False</td>\n",
       "      <td>False</td>\n",
       "      <td>***I do NOT own anything. Just want to share t...</td>\n",
       "    </tr>\n",
       "    <tr>\n",
       "      <th>40737</th>\n",
       "      <td>4PiSLIrsSiY</td>\n",
       "      <td>2018-06-14</td>\n",
       "      <td>ОБЗОР ВАННОЙ КОМНАТЫ🛁/ТУАЛЕТНОЙ КОМНАТЫ🚽 + ДЕК...</td>\n",
       "      <td>Ксюша Лебедева</td>\n",
       "      <td>22</td>\n",
       "      <td>2018-06-13 00:23:33+00:00</td>\n",
       "      <td>рум тур ванной комнаты|\"room tour bathroom\"|\"д...</td>\n",
       "      <td>14225</td>\n",
       "      <td>793</td>\n",
       "      <td>39</td>\n",
       "      <td>209</td>\n",
       "      <td>https://i.ytimg.com/vi/4PiSLIrsSiY/default.jpg</td>\n",
       "      <td>False</td>\n",
       "      <td>False</td>\n",
       "      <td>False</td>\n",
       "      <td>Обзор ванной комнаты, туалетной комнаты+ декор...</td>\n",
       "    </tr>\n",
       "    <tr>\n",
       "      <th>40738</th>\n",
       "      <td>Ehy5foVfKOE</td>\n",
       "      <td>2018-06-14</td>\n",
       "      <td>Плохой сигнал. Стань человеком!</td>\n",
       "      <td>Tubus Show</td>\n",
       "      <td>29</td>\n",
       "      <td>2018-06-13 09:50:09+00:00</td>\n",
       "      <td>плохой сигнал|\"тубус шоу\"|\"reebok\"|\"стань чело...</td>\n",
       "      <td>52340</td>\n",
       "      <td>7708</td>\n",
       "      <td>133</td>\n",
       "      <td>1819</td>\n",
       "      <td>https://i.ytimg.com/vi/Ehy5foVfKOE/default.jpg</td>\n",
       "      <td>False</td>\n",
       "      <td>False</td>\n",
       "      <td>False</td>\n",
       "      <td>В 90-х годах прошлого века произошло коренное ...</td>\n",
       "    </tr>\n",
       "  </tbody>\n",
       "</table>\n",
       "<p>40739 rows × 16 columns</p>\n",
       "</div>"
      ],
      "text/plain": [
       "          video_id trending_date  \\\n",
       "0      gDuslQ9avLc    2017-11-14   \n",
       "1      AOCJIFEA_jE    2017-11-14   \n",
       "2      VAWNQDgwwOM    2017-11-14   \n",
       "3      gknkFwKQfHg    2017-11-14   \n",
       "4      3sYvZcwzZr8    2017-11-14   \n",
       "...            ...           ...   \n",
       "40734  OMmR9THjVKM    2018-06-14   \n",
       "40735  tX7p7NtNVDE    2018-06-14   \n",
       "40736  KAyj5Xm1C64    2018-06-14   \n",
       "40737  4PiSLIrsSiY    2018-06-14   \n",
       "40738  Ehy5foVfKOE    2018-06-14   \n",
       "\n",
       "                                                   title   channel_title  \\\n",
       "0                        Захар и Полина учатся экономить       Т—Ж БОГАЧ   \n",
       "1                       Биржа Мемов #29. Большой выпуск    Druzhko Show   \n",
       "2                           ХАЙП КЭМП - СВОЙ СРЕДИ ЧУЖИХ            Юлик   \n",
       "3                             Сочная кесадилья с курицей        Hochland   \n",
       "4                  КЛИПЫ РОДИТЕЛЕЙ НА ШКОЛЬНЫЙ ВЫПУСКНОЙ        Совергон   \n",
       "...                                                  ...             ...   \n",
       "40734  У меня СДВГ! (Story booth на русском) Русская ...    Pastime Time   \n",
       "40735                    Мои Детские Травмы 2 (анимация)          CaGArt   \n",
       "40736  [ENG SUB] BTS PROM PARTY 2018 Intro + 2nd Gran...    DaisyxBTS 07   \n",
       "40737  ОБЗОР ВАННОЙ КОМНАТЫ🛁/ТУАЛЕТНОЙ КОМНАТЫ🚽 + ДЕК...  Ксюша Лебедева   \n",
       "40738                    Плохой сигнал. Стань человеком!      Tubus Show   \n",
       "\n",
       "       category_id              publish_time  \\\n",
       "0               22 2017-11-13 09:09:31+00:00   \n",
       "1               22 2017-11-13 17:32:11+00:00   \n",
       "2               24 2017-11-13 16:11:31+00:00   \n",
       "3               22 2017-11-13 06:51:10+00:00   \n",
       "4               24 2017-11-13 16:52:36+00:00   \n",
       "...            ...                       ...   \n",
       "40734           22 2018-06-13 13:47:01+00:00   \n",
       "40735           23 2018-06-12 09:38:38+00:00   \n",
       "40736           24 2018-06-13 12:51:23+00:00   \n",
       "40737           22 2018-06-13 00:23:33+00:00   \n",
       "40738           29 2018-06-13 09:50:09+00:00   \n",
       "\n",
       "                                                    tags   views  likes  \\\n",
       "0      захар и полина|\"учимся экономить\"|\"копить день...   62408    334   \n",
       "1      биржа мемов|\"лев шагинян\"|\"мемы\"|\"пикчи\"|\"друж...  330043  43841   \n",
       "2      юмор|\"комедия\"|\"влог\"|\"блог\"|\"смешно\"|\"смешное...  424596  49854   \n",
       "3      хохланд|\"сыр\"|\"рецепты\"|\"как приготовить\"|\"вку...  112851   3566   \n",
       "4      Совергон|\"Sovergon\"|\"клипы\"|\"родители\"|\"школа\"...  243469  36216   \n",
       "...                                                  ...     ...    ...   \n",
       "40734  story booth на русском|\"story booth перевод\"|\"...  129488   5893   \n",
       "40735  кагарт|\"каги\"|\"цагарт\"|\"гагарт\"|\"какарт\"|\"милш...   99163   4659   \n",
       "40736                                             [none]  449611  24808   \n",
       "40737  рум тур ванной комнаты|\"room tour bathroom\"|\"д...   14225    793   \n",
       "40738  плохой сигнал|\"тубус шоу\"|\"reebok\"|\"стань чело...   52340   7708   \n",
       "\n",
       "       dislikes  comment_count  \\\n",
       "0           190             50   \n",
       "1          2244           2977   \n",
       "2           714           2944   \n",
       "3           122             80   \n",
       "4           631           1692   \n",
       "...         ...            ...   \n",
       "40734       164            990   \n",
       "40735       337            692   \n",
       "40736        93            974   \n",
       "40737        39            209   \n",
       "40738       133           1819   \n",
       "\n",
       "                                       thumbnail_link  comments_disabled  \\\n",
       "0      https://i.ytimg.com/vi/gDuslQ9avLc/default.jpg              False   \n",
       "1      https://i.ytimg.com/vi/AOCJIFEA_jE/default.jpg              False   \n",
       "2      https://i.ytimg.com/vi/VAWNQDgwwOM/default.jpg              False   \n",
       "3      https://i.ytimg.com/vi/gknkFwKQfHg/default.jpg              False   \n",
       "4      https://i.ytimg.com/vi/3sYvZcwzZr8/default.jpg              False   \n",
       "...                                               ...                ...   \n",
       "40734  https://i.ytimg.com/vi/OMmR9THjVKM/default.jpg              False   \n",
       "40735  https://i.ytimg.com/vi/tX7p7NtNVDE/default.jpg              False   \n",
       "40736  https://i.ytimg.com/vi/KAyj5Xm1C64/default.jpg              False   \n",
       "40737  https://i.ytimg.com/vi/4PiSLIrsSiY/default.jpg              False   \n",
       "40738  https://i.ytimg.com/vi/Ehy5foVfKOE/default.jpg              False   \n",
       "\n",
       "       ratings_disabled  video_error_or_removed  \\\n",
       "0                 False                   False   \n",
       "1                 False                   False   \n",
       "2                 False                   False   \n",
       "3                 False                   False   \n",
       "4                 False                   False   \n",
       "...                 ...                     ...   \n",
       "40734             False                   False   \n",
       "40735             False                   False   \n",
       "40736             False                   False   \n",
       "40737             False                   False   \n",
       "40738             False                   False   \n",
       "\n",
       "                                             description  \n",
       "0      Знакомьтесь, это Захар и Полина. Вместе с ними...  \n",
       "1      В 29 выпуске Дружко Шоу Сергей сказал, что Бир...  \n",
       "2      http://kapitany.ru/!Yulik.cap - Факультет #Кап...  \n",
       "3                *** как готовить ресторанные блюда дома  \n",
       "4      ❏ КОНКУРС КАПИТАНЫ: http://kapitany.ru/!Soverg...  \n",
       "...                                                  ...  \n",
       "40734  Котики в Blade and Soul - https://bit.ly/2JoOq...  \n",
       "40735  Мои Детские Травмы 2 (анимация)           ▶️Ск...  \n",
       "40736  ***I do NOT own anything. Just want to share t...  \n",
       "40737  Обзор ванной комнаты, туалетной комнаты+ декор...  \n",
       "40738  В 90-х годах прошлого века произошло коренное ...  \n",
       "\n",
       "[40739 rows x 16 columns]"
      ]
     },
     "execution_count": 6,
     "metadata": {},
     "output_type": "execute_result"
    }
   ],
   "source": [
    "df"
   ]
  },
  {
   "cell_type": "code",
   "execution_count": 7,
   "metadata": {},
   "outputs": [
    {
     "data": {
      "text/plain": [
       "[<matplotlib.lines.Line2D at 0x1918a8361f0>]"
      ]
     },
     "execution_count": 7,
     "metadata": {},
     "output_type": "execute_result"
    },
    {
     "data": {
      "image/png": "[encoded data removed]",
      "text/plain": [
       "<Figure size 936x432 with 1 Axes>"
      ]
     },
     "metadata": {
      "needs_background": "light"
     },
     "output_type": "display_data"
    }
   ],
   "source": [
    "# я подумал посмотреть на связь (или её отсутствие) между кол-вом тегов и кол-вом лайков/дизлайков с помощью визуализации.\n",
    "# к сожалению я понятия не имею зачем я это сделал и какие из этого можно сделать выводы.\n",
    "\n",
    "def count_of_tags(tags_str):\n",
    "    tags_list = re.findall('[A-zА-яё0-9 ]+', tags_str)\n",
    "    return len(tags_list)\n",
    "\n",
    "df['count_of_tags'] = df['tags'].apply(count_of_tags) # создал столбец с кол-вом тегов\n",
    "\n",
    "likes_tags = df[['likes', 'count_of_tags']].groupby('count_of_tags').sum().reset_index()\n",
    "dislikes_tags = df[['dislikes', 'count_of_tags']].groupby('count_of_tags').sum().reset_index()\n",
    "\n",
    "plt.plot(likes_tags.likes)\n",
    "plt.plot(dislikes_tags.dislikes)"
   ]
  },
  {
   "cell_type": "code",
   "execution_count": 8,
   "metadata": {
    "scrolled": true
   },
   "outputs": [
    {
     "data": {
      "text/plain": [
       "count    40739.000000\n",
       "mean        20.261936\n",
       "std          7.890955\n",
       "min          1.000000\n",
       "25%         20.000000\n",
       "50%         22.000000\n",
       "75%         25.000000\n",
       "max         43.000000\n",
       "Name: category_id, dtype: float64"
      ]
     },
     "execution_count": 8,
     "metadata": {},
     "output_type": "execute_result"
    }
   ],
   "source": [
    "df['category_id'].describe()"
   ]
  },
  {
   "cell_type": "code",
   "execution_count": 9,
   "metadata": {},
   "outputs": [],
   "source": [
    "def visualize_most(my_df, column, num=10): # getting the top 10 videos by default\n",
    "    sorted_df = my_df.sort_values(column, ascending=False).iloc[:num]\n",
    "    \n",
    "    ax = sorted_df[column].plot.bar()\n",
    "    \n",
    "    # customizes the video titles, for asthetic purposes for the bar chart\n",
    "    labels = []\n",
    "    for item in sorted_df['title']:\n",
    "        labels.append(item[:10] + '...')\n",
    "    ax.set_xticklabels(labels, rotation=45, fontsize=10)\n",
    "    \n",
    "    plt.show()"
   ]
  },
  {
   "cell_type": "code",
   "execution_count": 10,
   "metadata": {},
   "outputs": [
    {
     "data": {
      "image/png": "[encoded data removed]",
      "text/plain": [
       "<Figure size 936x432 with 1 Axes>"
      ]
     },
     "metadata": {
      "needs_background": "light"
     },
     "output_type": "display_data"
    }
   ],
   "source": [
    "df['category_id'].plot(kind='hist', \n",
    "    title='Categories',\n",
    "    bins=43,\n",
    "    xticks=range(0, 43, 1))\n",
    "plt.show()\n",
    "\n",
    "# наглядно видно какие категории обычно в трендах, но я не уверен, что гистограмма это\n",
    "# хорошая визуализация для таких данных"
   ]
  },
  {
   "cell_type": "code",
   "execution_count": 11,
   "metadata": {},
   "outputs": [
    {
     "data": {
      "image/png": "[encoded data removed]",
      "text/plain": [
       "<Figure size 936x432 with 1 Axes>"
      ]
     },
     "metadata": {
      "needs_background": "light"
     },
     "output_type": "display_data"
    },
    {
     "data": {
      "image/png": "[encoded data removed]",
      "text/plain": [
       "<Figure size 936x432 with 1 Axes>"
      ]
     },
     "metadata": {
      "needs_background": "light"
     },
     "output_type": "display_data"
    }
   ],
   "source": [
    "tmp = df[['likes', 'dislikes', 'comments_disabled']].groupby('comments_disabled').sum().reset_index()\n",
    "tmp\n",
    "\n",
    "\n",
    "likes_on_disabled_comments = tmp[tmp['comments_disabled'] == True]\n",
    "likes_on_enabled_comments = tmp[tmp['comments_disabled'] == False]\n",
    "likes_on_disabled_comments.plot(kind='bar', stacked=True, title='Соотношение лайков и дизлайков в трендящихся видео с отключёнными комментариями')\n",
    "plt.show()\n",
    "likes_on_enabled_comments.plot(kind='bar', stacked=True, title='Соотношение лайков и дизлайков в трендящихся видео с включёнными комментариями')\n",
    "plt.show()\n",
    "\n",
    "# в общем под видосами с отключёнными комментариями больше дизлайков.\n",
    "# видимо потому что комментарии закрывают под неоднозначными видео, которые дизлайкают больше.\n",
    "# и возможно из за того что комментарии закрыты ещё больше дизлайков наваливают."
   ]
  },
  {
   "cell_type": "code",
   "execution_count": 12,
   "metadata": {
    "scrolled": false
   },
   "outputs": [
    {
     "data": {
      "image/png": "[encoded data removed]",
      "text/plain": [
       "<Figure size 936x432 with 1 Axes>"
      ]
     },
     "metadata": {
      "needs_background": "light"
     },
     "output_type": "display_data"
    }
   ],
   "source": [
    "tmp = df[['likes', 'dislikes', 'category_id']].groupby('category_id').sum()\n",
    "\n",
    "tmp.plot(kind='bar', \n",
    "    title='Соотношение лайков и дизлайков по категориям')\n",
    "plt.show()\n",
    "\n",
    "# тут я (если всё правильно сделал) пытаюсь посмотреть в каких категориях какое соотношение лайков/дизлайков.\n",
    "# в категории \"News & Politics\" дизлайков прям много, это наверное потому что новости обычно негативные.\n",
    "# в \"Nonprofits & Activism\" тоже довольно много дизлайков, наверное потому что активисты пытаются привлечь внимание порой\n",
    "# неоднозначным образом и многие не любят активистов."
   ]
  },
  {
   "cell_type": "code",
   "execution_count": null,
   "metadata": {},
   "outputs": [],
   "source": []
  },
  {
   "cell_type": "code",
   "execution_count": 13,
   "metadata": {
    "scrolled": false
   },
   "outputs": [
    {
     "data": {
      "text/plain": [
       "Text(0.6, 0.7, 'annotate')"
      ]
     },
     "execution_count": 13,
     "metadata": {},
     "output_type": "execute_result"
    },
    {
     "data": {
      "image/png": "[encoded data removed]",
      "text/plain": [
       "<Figure size 936x432 with 1 Axes>"
      ]
     },
     "metadata": {
      "needs_background": "light"
     },
     "output_type": "display_data"
    }
   ],
   "source": [
    "plt.plot(df.trending_date, df.likes)\n",
    "plt.plot(df.trending_date, df.dislikes)\n",
    "plt.title('Соотношение лайков и дизлайков')\n",
    "# видосам в трендах лайков ставят заметно больше, чем дизлайков.\n",
    "plt.annotate(\"annotate\", xy=(0.2, 0.4), xytext=(0.6, 0.7),\n",
    "            arrowprops=dict(facecolor='black', shrink=0.05))"
   ]
  },
  {
   "cell_type": "code",
   "execution_count": 35,
   "metadata": {
    "scrolled": false
   },
   "outputs": [
    {
     "data": {
      "text/plain": [
       "Text(17667, 600000, 'А ето чо?')"
      ]
     },
     "execution_count": 35,
     "metadata": {},
     "output_type": "execute_result"
    },
    {
     "data": {
      "image/png": "[encoded data removed]",
      "text/plain": [
       "<Figure size 936x432 with 1 Axes>"
      ]
     },
     "metadata": {
      "needs_background": "light"
     },
     "output_type": "display_data"
    }
   ],
   "source": [
    "start_date = df[\"trending_date\"] >= \"2018-05-14\"\n",
    "end_date = df[\"trending_date\"] <= \"2018-05-17\"\n",
    "date_range = start_date & end_date\n",
    "tmp = df.loc[date_range]\n",
    "\n",
    "plt.plot(tmp.trending_date, tmp.likes)\n",
    "plt.plot(tmp.trending_date, tmp.dislikes)\n",
    "plt.title('Соотношение лайков и дизлайков')\n",
    "\n",
    "plt.text(17666, 600000,'А чо ето?')\n",
    "plt.text(17667, 600000,'А ето чо?')\n",
    "\n",
    "# тип визуализации оказался неудачным, но тем не менее получилось понять в какую дату было аномально много дизлайков.\n",
    "# интересно, что число даты в формате datetime заканчивается на 666 в день с аномальным числом дизлайков.\n",
    "# совпадение или тёмные силы вмешались?"
   ]
  },
  {
   "cell_type": "code",
   "execution_count": 36,
   "metadata": {},
   "outputs": [
    {
     "data": {
      "text/html": [
       "<div>\n",
       "<style scoped>\n",
       "    .dataframe tbody tr th:only-of-type {\n",
       "        vertical-align: middle;\n",
       "    }\n",
       "\n",
       "    .dataframe tbody tr th {\n",
       "        vertical-align: top;\n",
       "    }\n",
       "\n",
       "    .dataframe thead th {\n",
       "        text-align: right;\n",
       "    }\n",
       "</style>\n",
       "<table border=\"1\" class=\"dataframe\">\n",
       "  <thead>\n",
       "    <tr style=\"text-align: right;\">\n",
       "      <th></th>\n",
       "      <th>likes</th>\n",
       "      <th>dislikes</th>\n",
       "      <th>video_id</th>\n",
       "      <th>title</th>\n",
       "      <th>dislikes/likes perc</th>\n",
       "    </tr>\n",
       "  </thead>\n",
       "  <tbody>\n",
       "    <tr>\n",
       "      <th>34667</th>\n",
       "      <td>50</td>\n",
       "      <td>309</td>\n",
       "      <td>2A1jG9t7TQA</td>\n",
       "      <td>Юля Волкова в специальном выпуске Пусть Говоря...</td>\n",
       "      <td>618.000000</td>\n",
       "    </tr>\n",
       "    <tr>\n",
       "      <th>34660</th>\n",
       "      <td>1141</td>\n",
       "      <td>3842</td>\n",
       "      <td>SjNop-EOXyw</td>\n",
       "      <td>Матвей Ганапольский / Ганапольское: Итоги без ...</td>\n",
       "      <td>336.722174</td>\n",
       "    </tr>\n",
       "    <tr>\n",
       "      <th>34692</th>\n",
       "      <td>22</td>\n",
       "      <td>66</td>\n",
       "      <td>6JEpVdFYHKg</td>\n",
       "      <td>Diriliş Ertuğrul 118 Bölüm 2.Fragman</td>\n",
       "      <td>300.000000</td>\n",
       "    </tr>\n",
       "    <tr>\n",
       "      <th>35193</th>\n",
       "      <td>3396</td>\n",
       "      <td>9046</td>\n",
       "      <td>Zlninlq_g88</td>\n",
       "      <td>ЕСТЬ ЛИ ЖИЗНЬ ПОСЛЕ ПУ? (прямой эфир с А. Соко...</td>\n",
       "      <td>266.372203</td>\n",
       "    </tr>\n",
       "    <tr>\n",
       "      <th>34974</th>\n",
       "      <td>1321</td>\n",
       "      <td>3013</td>\n",
       "      <td>rp98v3WWzus</td>\n",
       "      <td>Особое мнение / Евгения Альбац // 15.05.18</td>\n",
       "      <td>228.084784</td>\n",
       "    </tr>\n",
       "  </tbody>\n",
       "</table>\n",
       "</div>"
      ],
      "text/plain": [
       "       likes  dislikes     video_id  \\\n",
       "34667     50       309  2A1jG9t7TQA   \n",
       "34660   1141      3842  SjNop-EOXyw   \n",
       "34692     22        66  6JEpVdFYHKg   \n",
       "35193   3396      9046  Zlninlq_g88   \n",
       "34974   1321      3013  rp98v3WWzus   \n",
       "\n",
       "                                                   title  dislikes/likes perc  \n",
       "34667  Юля Волкова в специальном выпуске Пусть Говоря...           618.000000  \n",
       "34660  Матвей Ганапольский / Ганапольское: Итоги без ...           336.722174  \n",
       "34692               Diriliş Ertuğrul 118 Bölüm 2.Fragman           300.000000  \n",
       "35193  ЕСТЬ ЛИ ЖИЗНЬ ПОСЛЕ ПУ? (прямой эфир с А. Соко...           266.372203  \n",
       "34974         Особое мнение / Евгения Альбац // 15.05.18           228.084784  "
      ]
     },
     "execution_count": 36,
     "metadata": {},
     "output_type": "execute_result"
    }
   ],
   "source": [
    "shity_videos = tmp[['likes','dislikes', 'video_id', 'title']].copy()\n",
    "shity_videos['dislikes/likes perc'] = (df['dislikes'] / df['likes']) * 100\n",
    "\n",
    "top5 = shity_videos.sort_values(by='dislikes/likes perc', ascending=False).head(5)\n",
    "top5\n",
    "\n",
    "# наверное правильнее было бы найти видео у которых топовое соотношение кол-ва дизлайков и процентов дизлайков от лайков.\n",
    "# но я не уверен."
   ]
  },
  {
   "cell_type": "code",
   "execution_count": 38,
   "metadata": {},
   "outputs": [
    {
     "data": {
      "text/plain": [
       "<AxesSubplot:xlabel='video_id'>"
      ]
     },
     "execution_count": 38,
     "metadata": {},
     "output_type": "execute_result"
    },
    {
     "data": {
      "image/png": "[encoded data removed]",
      "text/plain": [
       "<Figure size 936x432 with 1 Axes>"
      ]
     },
     "metadata": {
      "needs_background": "light"
     },
     "output_type": "display_data"
    }
   ],
   "source": [
    "# это анамально залайканные видео за 19 и 20 мая 2018,\n",
    "# как выяснилось это одно видео\n",
    "\n",
    "start_date = df[\"trending_date\"] >= \"2018-05-4\"\n",
    "end_date = df[\"trending_date\"] <= \"2018-05-20\"\n",
    "date_range = start_date & end_date\n",
    "tmp = df.loc[date_range]\n",
    "tmp = tmp[['likes','dislikes', 'video_id', 'title']].copy()\n",
    "tmp = tmp.set_index('video_id')\n",
    "\n",
    "top5 = tmp.sort_values(by='likes', ascending=False).head(5)\n",
    "ax = top5.plot(kind='bar')\n",
    "ax"
   ]
  },
  {
   "cell_type": "code",
   "execution_count": null,
   "metadata": {},
   "outputs": [],
   "source": []
  },
  {
   "cell_type": "code",
   "execution_count": 39,
   "metadata": {},
   "outputs": [
    {
     "data": {
      "text/plain": [
       "<AxesSubplot:title={'center':'Распределение по кол-ву попадений в тренды'}>"
      ]
     },
     "execution_count": 39,
     "metadata": {},
     "output_type": "execute_result"
    },
    {
     "data": {
      "image/png": "[encoded data removed]",
      "text/plain": [
       "<Figure size 936x432 with 1 Axes>"
      ]
     },
     "metadata": {
      "needs_background": "light"
     },
     "output_type": "display_data"
    }
   ],
   "source": [
    "# поглядим, чьи видео чаще всего попадали в тренды\n",
    "top_trenders = df.groupby(['channel_title']).size().reset_index(name='count_of_trending').sort_values(by='count_of_trending', ascending=False)\n",
    "\n",
    "top_trenders.count_of_trending.plot(kind='box',\n",
    "                   title='Распределение по кол-ву попадений в тренды', grid=True)\n",
    "\n",
    "# как выяснилсоь в подавляющем большинстве случаев в тренды видео попадают не систематически от разных авторов.\n",
    "# те авторы, кто регулярно тусуются в трендах -- могут считаться исключением"
   ]
  },
  {
   "cell_type": "code",
   "execution_count": 40,
   "metadata": {},
   "outputs": [
    {
     "data": {
      "text/plain": [
       "<AxesSubplot:title={'center':'Соотношение кол-ва лайков и частоты попадения в тренды по категориям'}, xlabel='category_id', ylabel='likes'>"
      ]
     },
     "execution_count": 40,
     "metadata": {},
     "output_type": "execute_result"
    },
    {
     "data": {
      "image/png": "[encoded data removed]",
      "text/plain": [
       "<Figure size 936x432 with 1 Axes>"
      ]
     },
     "metadata": {
      "needs_background": "light"
     },
     "output_type": "display_data"
    }
   ],
   "source": [
    "df_with_count_of_trending = df.merge(top_trenders, on='channel_title', how='left').sort_values('count_of_trending', ascending=False).reset_index()\n",
    "\n",
    "df_with_count_of_trending.plot(kind='scatter', \n",
    "        x='category_id', \n",
    "        y='likes', \n",
    "        s=df_with_count_of_trending.count_of_trending,\n",
    "        xticks=range(1, 44, 1),\n",
    "        yticks=range(0, 5000000, 500000),\n",
    "        title='Соотношение кол-ва лайков и частоты попадения в тренды по категориям',\n",
    "       )\n",
    "\n",
    "# как-то неинформативно выглядит"
   ]
  }
 ],
 "metadata": {
  "kernelspec": {
   "display_name": "Python 3",
   "language": "python",
   "name": "python3"
  },
  "language_info": {
   "codemirror_mode": {
    "name": "ipython",
    "version": 3
   },
   "file_extension": ".py",
   "mimetype": "text/x-python",
   "name": "python",
   "nbconvert_exporter": "python",
   "pygments_lexer": "ipython3",
   "version": "3.8.4"
  }
 },
 "nbformat": 4,
 "nbformat_minor": 2
}
