{
 "cells": [
  {
   "cell_type": "code",
   "execution_count": 1,
   "metadata": {},
   "outputs": [],
   "source": [
    "import pandas as pd"
   ]
  },
  {
   "cell_type": "code",
   "execution_count": 4,
   "metadata": {},
   "outputs": [
    {
     "name": "stdout",
     "output_type": "stream",
     "text": [
      "Фильм, получивший наибольшее кол-во оценок \"5\": Shawshank Redemption, The (1994)\n"
     ]
    }
   ],
   "source": [
    "# Задание 1\n",
    "# Скачайте с сайта https://grouplens.org/datasets/movielens/ датасет любого размера.\n",
    "# Определите какому фильму было выставлено больше всего оценок 5.0.\n",
    "\n",
    "movies_df = pd.read_csv('movies.csv')\n",
    "ratings_df = pd.read_csv('ratings.csv')\n",
    "\n",
    "all_fiverating_df = ratings_df.loc[ratings_df['rating'] == 5.0]\n",
    "most_five_rated_movieid = int(all_fiverating_df.mode()['movieId'])\n",
    "most_five_rated_movie_row = movies_df.loc[movies_df['movieId'] == most_five_rated_movieid]\n",
    "print(f'Фильм, получивший наибольшее кол-во оценок \"5\": {most_five_rated_movie_row.iloc[0][\"title\"]}')"
   ]
  },
  {
   "cell_type": "code",
   "execution_count": 41,
   "metadata": {},
   "outputs": [
    {
     "name": "stdout",
     "output_type": "stream",
     "text": [
      "Cуммарное потребление стран Прибалтики (Латвия, Литва и Эстония) категорий 4, 12 и 21 за период с 2005 по 2010 года:\n",
      "240580.0\n"
     ]
    }
   ],
   "source": [
    "# Задание 2\n",
    "# По данным файла power.csv посчитайте суммарное потребление стран Прибалтики (Латвия, Литва и Эстония)\n",
    "# категорий 4, 12 и 21 за период с 2005 по 2010 года. Не учитывайте в расчетах отрицательные значения\n",
    "# quantity.\n",
    "power_df = pd.read_csv('power.csv')\n",
    "power_df.head()\n",
    "\n",
    "target_power_df = power_df.loc[power_df['quantity'] > 0] # убрал всё, что с отрицательным квантити\n",
    "target_power_df = target_power_df[target_power_df['category'].isin([4, 12, 21])] # убрал всё, что не в категориях 4, 12, 21\n",
    "target_power_df = target_power_df[target_power_df['country'].isin(['Latvia', 'Lithuania', 'Estonia'])]\n",
    "target_power_df = target_power_df.loc[(power_df['year'] > 2004) & (power_df['year'] < 2011)]\n",
    "\n",
    "print(f'Cуммарное потребление стран Прибалтики (Латвия, Литва и Эстония) категорий 4, 12 и 21 за период с 2005 по 2010 года:\\n{target_power_df[\"quantity\"].sum()}')"
   ]
  },
  {
   "cell_type": "code",
   "execution_count": 62,
   "metadata": {},
   "outputs": [
    {
     "data": {
      "text/html": [
       "<div>\n",
       "<style scoped>\n",
       "    .dataframe tbody tr th:only-of-type {\n",
       "        vertical-align: middle;\n",
       "    }\n",
       "\n",
       "    .dataframe tbody tr th {\n",
       "        vertical-align: top;\n",
       "    }\n",
       "\n",
       "    .dataframe thead th {\n",
       "        text-align: right;\n",
       "    }\n",
       "</style>\n",
       "<table border=\"1\" class=\"dataframe\">\n",
       "  <thead>\n",
       "    <tr style=\"text-align: right;\">\n",
       "      <th></th>\n",
       "      <th>0</th>\n",
       "      <th>1</th>\n",
       "      <th>2</th>\n",
       "      <th>3</th>\n",
       "      <th>4</th>\n",
       "      <th>5</th>\n",
       "      <th>6</th>\n",
       "      <th>7</th>\n",
       "      <th>8</th>\n",
       "      <th>9</th>\n",
       "      <th>10</th>\n",
       "      <th>11</th>\n",
       "    </tr>\n",
       "  </thead>\n",
       "  <tbody>\n",
       "    <tr>\n",
       "      <th>0</th>\n",
       "      <td>ММВБ</td>\n",
       "      <td>3 186</td>\n",
       "      <td>-2,7%</td>\n",
       "      <td>Nasdaq</td>\n",
       "      <td>12 743</td>\n",
       "      <td>-0,1%</td>\n",
       "      <td>Биткойн</td>\n",
       "      <td>23 041</td>\n",
       "      <td>0,9%</td>\n",
       "      <td>USD/RUB</td>\n",
       "      <td>748907</td>\n",
       "      <td>0,4%</td>\n",
       "    </tr>\n",
       "    <tr>\n",
       "      <th>1</th>\n",
       "      <td>РТС</td>\n",
       "      <td>1 336</td>\n",
       "      <td>-4,8%</td>\n",
       "      <td>S&amp;P500</td>\n",
       "      <td>3 695</td>\n",
       "      <td>-0,4%</td>\n",
       "      <td>Нефть</td>\n",
       "      <td>507</td>\n",
       "      <td>-0,2%</td>\n",
       "      <td>EUR/RUB</td>\n",
       "      <td>915810</td>\n",
       "      <td>0,2%</td>\n",
       "    </tr>\n",
       "    <tr>\n",
       "      <th>2</th>\n",
       "      <td>Dow</td>\n",
       "      <td>30 216</td>\n",
       "      <td>0,1%</td>\n",
       "      <td>FTSE100</td>\n",
       "      <td>6 416</td>\n",
       "      <td>-1,7%</td>\n",
       "      <td>Золото</td>\n",
       "      <td>1 881</td>\n",
       "      <td>0,2%</td>\n",
       "      <td>EUR/USD</td>\n",
       "      <td>12227</td>\n",
       "      <td>-0,1%</td>\n",
       "    </tr>\n",
       "  </tbody>\n",
       "</table>\n",
       "</div>"
      ],
      "text/plain": [
       "     0       1      2        3       4      5        6       7      8   \\\n",
       "0  ММВБ   3 186  -2,7%   Nasdaq  12 743  -0,1%  Биткойн  23 041   0,9%   \n",
       "1   РТС   1 336  -4,8%   S&P500   3 695  -0,4%    Нефть     507  -0,2%   \n",
       "2   Dow  30 216   0,1%  FTSE100   6 416  -1,7%   Золото   1 881   0,2%   \n",
       "\n",
       "        9       10     11  \n",
       "0  USD/RUB  748907   0,4%  \n",
       "1  EUR/RUB  915810   0,2%  \n",
       "2  EUR/USD   12227  -0,1%  "
      ]
     },
     "execution_count": 62,
     "metadata": {},
     "output_type": "execute_result"
    }
   ],
   "source": [
    "URL = 'https://www.finanz.ru/valyuty/v-realnom-vremeni'\n",
    "\n",
    "df_list = pd.read_html(URL, encoding='utf-8')\n",
    "df_list[0]"
   ]
  }
 ],
 "metadata": {
  "kernelspec": {
   "display_name": "Python 3",
   "language": "python",
   "name": "python3"
  },
  "language_info": {
   "codemirror_mode": {
    "name": "ipython",
    "version": 3
   },
   "file_extension": ".py",
   "mimetype": "text/x-python",
   "name": "python",
   "nbconvert_exporter": "python",
   "pygments_lexer": "ipython3",
   "version": "3.8.3"
  }
 },
 "nbformat": 4,
 "nbformat_minor": 4
}
