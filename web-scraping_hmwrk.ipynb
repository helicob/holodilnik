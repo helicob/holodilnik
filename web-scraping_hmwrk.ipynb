{
 "cells": [
  {
   "cell_type": "code",
   "execution_count": 1,
   "metadata": {},
   "outputs": [],
   "source": [
    "import requests\n",
    "from bs4 import BeautifulSoup\n",
    "from datetime import datetime\n",
    "import pandas as pd\n",
    "import re\n",
    "import time\n",
    "import json"
   ]
  },
  {
   "cell_type": "code",
   "execution_count": 35,
   "metadata": {},
   "outputs": [],
   "source": [
    "# Обязательная часть\n",
    "# Будем парсить страницу со свежеми новостям на habr.com/ru/all/.\n",
    "# Вам необходимо собирать только те статьи, в которых встречается хотя бы одно требуемое ключевое \n",
    "# слово. Эти слова определяем в начале кода в переменной, например:\n",
    "# KEYWORDS = ['python', 'парсинг']\n",
    "# Поиск вести по всей доступной preview-информации (это информация, доступная непосредственно \n",
    "# с текущей страницы).\n",
    "# В итоге должен формироваться датафрейм вида: <дата> - <заголовок> - <ссылка>\n",
    "\n",
    "KEYWORDS = ['python', 'парсинг', '9to5Mac', 'CrowdSec', 'Kotlin', 'проблёскивающей']"
   ]
  },
  {
   "cell_type": "code",
   "execution_count": 3,
   "metadata": {},
   "outputs": [],
   "source": [
    "req = requests.get('http://habr.com/ru/all/')\n",
    "soup = BeautifulSoup(req.text, 'html.parser')"
   ]
  },
  {
   "cell_type": "code",
   "execution_count": 4,
   "metadata": {},
   "outputs": [
    {
     "data": {
      "text/plain": [
       "2"
      ]
     },
     "execution_count": 4,
     "metadata": {},
     "output_type": "execute_result"
    }
   ],
   "source": [
    "content_list = soup.find_all('li', {'id': re.compile('post_\\d')}) # все превьюхи собираются\n",
    "keywords_content_list = []\n",
    "\n",
    "for content in content_list: # отбираются превьюхи в которых фигурируют ключевые слова\n",
    "    if any(keyword in str(content) for keyword in KEYWORDS):\n",
    "        keywords_content_list.append(content)\n",
    "\n",
    "len(keywords_content_list)"
   ]
  },
  {
   "cell_type": "code",
   "execution_count": 5,
   "metadata": {},
   "outputs": [
    {
     "data": {
      "text/html": [
       "<div>\n",
       "<style scoped>\n",
       "    .dataframe tbody tr th:only-of-type {\n",
       "        vertical-align: middle;\n",
       "    }\n",
       "\n",
       "    .dataframe tbody tr th {\n",
       "        vertical-align: top;\n",
       "    }\n",
       "\n",
       "    .dataframe thead th {\n",
       "        text-align: right;\n",
       "    }\n",
       "</style>\n",
       "<table border=\"1\" class=\"dataframe\">\n",
       "  <thead>\n",
       "    <tr style=\"text-align: right;\">\n",
       "      <th></th>\n",
       "      <th>date</th>\n",
       "      <th>header</th>\n",
       "      <th>link</th>\n",
       "    </tr>\n",
       "  </thead>\n",
       "  <tbody>\n",
       "    <tr>\n",
       "      <th>0</th>\n",
       "      <td>2021-01-16 22:35</td>\n",
       "      <td>Тестирование Kotlin/JS: фреймворки, корутины и...</td>\n",
       "      <td>https://habr.com/ru/post/537670/</td>\n",
       "    </tr>\n",
       "    <tr>\n",
       "      <th>1</th>\n",
       "      <td>2021-01-16 17:22</td>\n",
       "      <td>Как определять собственные классы исключений в...</td>\n",
       "      <td>https://habr.com/ru/company/piter/blog/537642/</td>\n",
       "    </tr>\n",
       "  </tbody>\n",
       "</table>\n",
       "</div>"
      ],
      "text/plain": [
       "               date                                             header  \\\n",
       "0  2021-01-16 22:35  Тестирование Kotlin/JS: фреймворки, корутины и...   \n",
       "1  2021-01-16 17:22  Как определять собственные классы исключений в...   \n",
       "\n",
       "                                             link  \n",
       "0                https://habr.com/ru/post/537670/  \n",
       "1  https://habr.com/ru/company/piter/blog/537642/  "
      ]
     },
     "execution_count": 5,
     "metadata": {},
     "output_type": "execute_result"
    }
   ],
   "source": [
    "df = pd.DataFrame()\n",
    "now = datetime.now()\n",
    "\n",
    "for content in keywords_content_list:\n",
    "    date = content.find(class_=['post__time', 'preview-data__time-published']).text\n",
    "    if 'вчера' in date: # дата меняется на фактическую без \"вчера\", \"сегодня\"\n",
    "        date = '{:%Y-%m-}{} '.format(now, now.day - 1) + date[8:]\n",
    "    elif 'сегодня' in date:\n",
    "        date = '{:%Y-%m-}{} '.format(now, now.day) + date[10:]\n",
    "    header = content.find(class_=['post__title_link', 'preview-data__title-link']).text\n",
    "    link = content.find(class_=\"post__title_link\").get('href')\n",
    "    \n",
    "    row = {'date': date, 'header': header, 'link': link}\n",
    "    df = pd.concat([df, pd.DataFrame([row])])\n",
    "\n",
    "df.reset_index(drop=True, inplace=True)\n",
    "df"
   ]
  },
  {
   "cell_type": "code",
   "execution_count": 38,
   "metadata": {},
   "outputs": [
    {
     "data": {
      "text/html": [
       "<div>\n",
       "<style scoped>\n",
       "    .dataframe tbody tr th:only-of-type {\n",
       "        vertical-align: middle;\n",
       "    }\n",
       "\n",
       "    .dataframe tbody tr th {\n",
       "        vertical-align: top;\n",
       "    }\n",
       "\n",
       "    .dataframe thead th {\n",
       "        text-align: right;\n",
       "    }\n",
       "</style>\n",
       "<table border=\"1\" class=\"dataframe\">\n",
       "  <thead>\n",
       "    <tr style=\"text-align: right;\">\n",
       "      <th></th>\n",
       "      <th>date</th>\n",
       "      <th>header</th>\n",
       "      <th>link</th>\n",
       "      <th>text</th>\n",
       "    </tr>\n",
       "  </thead>\n",
       "  <tbody>\n",
       "    <tr>\n",
       "      <th>0</th>\n",
       "      <td>2021-01-17 10:21</td>\n",
       "      <td>Черные дыры и голограммы</td>\n",
       "      <td>https://habr.com/ru/post/537500/</td>\n",
       "      <td>\\n\\n\\n\\nArkadiyXIII\\n\\nсегодня в 10:21\\n\\n\\nЧе...</td>\n",
       "    </tr>\n",
       "    <tr>\n",
       "      <th>1</th>\n",
       "      <td>2021-01-16 22:35</td>\n",
       "      <td>Тестирование Kotlin/JS: фреймворки, корутины и...</td>\n",
       "      <td>https://habr.com/ru/post/537670/</td>\n",
       "      <td>\\n\\n\\n\\nkamish721\\n\\nвчера в 22:35\\n\\n\\nТестир...</td>\n",
       "    </tr>\n",
       "    <tr>\n",
       "      <th>2</th>\n",
       "      <td>2021-01-16 17:22</td>\n",
       "      <td>Как определять собственные классы исключений в...</td>\n",
       "      <td>https://habr.com/ru/company/piter/blog/537642/</td>\n",
       "      <td>\\n\\n\\n\\nph_piter\\n\\nвчера в 17:22\\n\\n\\nКак опр...</td>\n",
       "    </tr>\n",
       "  </tbody>\n",
       "</table>\n",
       "</div>"
      ],
      "text/plain": [
       "               date                                             header  \\\n",
       "0  2021-01-17 10:21                           Черные дыры и голограммы   \n",
       "1  2021-01-16 22:35  Тестирование Kotlin/JS: фреймворки, корутины и...   \n",
       "2  2021-01-16 17:22  Как определять собственные классы исключений в...   \n",
       "\n",
       "                                             link  \\\n",
       "0                https://habr.com/ru/post/537500/   \n",
       "1                https://habr.com/ru/post/537670/   \n",
       "2  https://habr.com/ru/company/piter/blog/537642/   \n",
       "\n",
       "                                                text  \n",
       "0  \\n\\n\\n\\nArkadiyXIII\\n\\nсегодня в 10:21\\n\\n\\nЧе...  \n",
       "1  \\n\\n\\n\\nkamish721\\n\\nвчера в 22:35\\n\\n\\nТестир...  \n",
       "2  \\n\\n\\n\\nph_piter\\n\\nвчера в 17:22\\n\\n\\nКак опр...  "
      ]
     },
     "execution_count": 38,
     "metadata": {},
     "output_type": "execute_result"
    }
   ],
   "source": [
    "# Дополнительная часть (необязательная)\n",
    "# Улучшить скрипт так, чтобы он анализировал не только preview-информацию статьи, \n",
    "# но и весь текст статьи целиком.\n",
    "# Для этого потребуется получать страницы статей и искать по тексту внутри этой страницы.\n",
    "# Итоговый датафрейм формировать со столбцами: <дата> - <заголовок> - <ссылка> - <текст_статьи>\n",
    "\n",
    "content_list = soup.find_all('li', {'id': re.compile('post_\\d')}) # все превьюхи собираются\n",
    "\n",
    "df = pd.DataFrame()\n",
    "now = datetime.now()\n",
    "\n",
    "for content in content_list:\n",
    "    date = content.find(class_=['post__time', 'preview-data__time-published']).text\n",
    "    link = content.find(class_=\"post__title_link\").get('href')\n",
    "    tmpreq = requests.get(link)\n",
    "    tmpsoup = BeautifulSoup(tmpreq.text, 'html.parser')\n",
    "    post_text = tmpsoup.find(class_='post__wrapper').text\n",
    "    if any(keyword in str(content) for keyword in KEYWORDS):\n",
    "        if 'вчера' in date: # дата меняется на фактическую без \"вчера\", \"сегодня\"\n",
    "            date = '{:%Y-%m-}{} '.format(now, now.day - 1) + date[8:]\n",
    "        elif 'сегодня' in date:\n",
    "            date = '{:%Y-%m-}{} '.format(now, now.day) + date[10:]\n",
    "        header = content.find(class_=['post__title_link', 'preview-data__title-link']).text\n",
    "        row = {'date': date, 'header': header, 'link': link, 'text': post_text}\n",
    "        df = pd.concat([df, pd.DataFrame([row])])\n",
    "\n",
    "df.reset_index(drop=True, inplace=True)\n",
    "df"
   ]
  },
  {
   "cell_type": "code",
   "execution_count": 18,
   "metadata": {},
   "outputs": [],
   "source": [
    "# Задание 2.\n",
    "# Обязательная часть\n",
    "# Написать скрипт, который будет проверять список e-mail адресов на утечку при помощи сервиса \n",
    "# Avast Hack Ckeck. Список email-ов задаем переменной в начале кода:\n",
    "# EMAIL = [xxx@x.ru, yyy@y.com]\n",
    "\n",
    "# В итоге должен формироваться датафрейм со столбцами: \n",
    "# <почта> - <дата утечки> - <источник утечки> - <описание утечки>\n",
    "\n",
    "# Подсказка: сервис работает при помощи \"скрытого\" API. Внимательно изучите post-запросы."
   ]
  },
  {
   "cell_type": "code",
   "execution_count": 42,
   "metadata": {},
   "outputs": [],
   "source": [
    "URL = 'https://identityprotection.avast.com/v1/web/query/site-breaches/unauthorized-data'\n",
    "headers = {\n",
    "    'Vaar-Version': '0',\n",
    "    'Vaar-Header-App-Product': 'hackcheck-web-avast',\n",
    "    'User-Agent': 'Mozilla/5.0 (Windows NT 10.0; Win64; x64) AppleWebKit/537.36 (KHTML, like Gecko) Chrome/87.0.4280.141 Safari/537.36'\n",
    "    }\n",
    "\n",
    "params = {'emailAddresses':['iif984@gmail.com', 'dsada@dasdqwe.eeer', 'elkichee@gmail.com']}\n",
    "\n",
    "req = requests.post(URL, data=json.dumps(params), headers=headers)"
   ]
  },
  {
   "cell_type": "code",
   "execution_count": 41,
   "metadata": {},
   "outputs": [
    {
     "data": {
      "text/html": [
       "<div>\n",
       "<style scoped>\n",
       "    .dataframe tbody tr th:only-of-type {\n",
       "        vertical-align: middle;\n",
       "    }\n",
       "\n",
       "    .dataframe tbody tr th {\n",
       "        vertical-align: top;\n",
       "    }\n",
       "\n",
       "    .dataframe thead th {\n",
       "        text-align: right;\n",
       "    }\n",
       "</style>\n",
       "<table border=\"1\" class=\"dataframe\">\n",
       "  <thead>\n",
       "    <tr style=\"text-align: right;\">\n",
       "      <th></th>\n",
       "      <th>e-mail</th>\n",
       "      <th>date</th>\n",
       "      <th>source</th>\n",
       "      <th>description</th>\n",
       "    </tr>\n",
       "  </thead>\n",
       "  <tbody>\n",
       "    <tr>\n",
       "      <th>0</th>\n",
       "      <td>iif984@gmail.com</td>\n",
       "      <td>2016-10-29T00:00:00Z</td>\n",
       "      <td>vk.com</td>\n",
       "      <td>Popular Russian social networking platform VKo...</td>\n",
       "    </tr>\n",
       "    <tr>\n",
       "      <th>1</th>\n",
       "      <td>elkichee@gmail.com</td>\n",
       "      <td>2016-10-24T00:00:00Z</td>\n",
       "      <td>000webhost.com</td>\n",
       "      <td>An anonymous criminal was able to exploit an o...</td>\n",
       "    </tr>\n",
       "    <tr>\n",
       "      <th>2</th>\n",
       "      <td>elkichee@gmail.com</td>\n",
       "      <td>2016-10-29T00:00:00Z</td>\n",
       "      <td>vk.com</td>\n",
       "      <td>Popular Russian social networking platform VKo...</td>\n",
       "    </tr>\n",
       "    <tr>\n",
       "      <th>3</th>\n",
       "      <td>elkichee@gmail.com</td>\n",
       "      <td>2016-10-23T00:00:00Z</td>\n",
       "      <td>hostinger.com</td>\n",
       "      <td>In May 2015, Hostinger.com's database was brea...</td>\n",
       "    </tr>\n",
       "    <tr>\n",
       "      <th>4</th>\n",
       "      <td>elkichee@gmail.com</td>\n",
       "      <td>2019-05-23T00:00:00Z</td>\n",
       "      <td>livejournal.com</td>\n",
       "      <td>In 2017, social network LiveJournal's database...</td>\n",
       "    </tr>\n",
       "  </tbody>\n",
       "</table>\n",
       "</div>"
      ],
      "text/plain": [
       "               e-mail                  date           source  \\\n",
       "0    iif984@gmail.com  2016-10-29T00:00:00Z           vk.com   \n",
       "1  elkichee@gmail.com  2016-10-24T00:00:00Z   000webhost.com   \n",
       "2  elkichee@gmail.com  2016-10-29T00:00:00Z           vk.com   \n",
       "3  elkichee@gmail.com  2016-10-23T00:00:00Z    hostinger.com   \n",
       "4  elkichee@gmail.com  2019-05-23T00:00:00Z  livejournal.com   \n",
       "\n",
       "                                         description  \n",
       "0  Popular Russian social networking platform VKo...  \n",
       "1  An anonymous criminal was able to exploit an o...  \n",
       "2  Popular Russian social networking platform VKo...  \n",
       "3  In May 2015, Hostinger.com's database was brea...  \n",
       "4  In 2017, social network LiveJournal's database...  "
      ]
     },
     "execution_count": 41,
     "metadata": {},
     "output_type": "execute_result"
    }
   ],
   "source": [
    "soup = BeautifulSoup(req.text, 'html.parser')\n",
    "response = json.loads(str(soup))\n",
    "\n",
    "df = pd.DataFrame()\n",
    "\n",
    "for key, value in response['summary'].items():\n",
    "    if len(value['breaches']) < 1:\n",
    "        continue\n",
    "    else:\n",
    "        for breach in value['breaches']:\n",
    "            date = response['breaches'][str(breach)]['publishDate']\n",
    "            source = response['breaches'][str(breach)]['site']\n",
    "            description = response['breaches'][str(breach)]['description']\n",
    "            row = {'e-mail': key, 'date': date, 'source': source, 'description': description}\n",
    "            df = pd.concat([df, pd.DataFrame([row])])\n",
    "\n",
    "df.reset_index(drop=True, inplace=True)\n",
    "df"
   ]
  },
  {
   "cell_type": "code",
   "execution_count": null,
   "metadata": {},
   "outputs": [],
   "source": []
  },
  {
   "cell_type": "code",
   "execution_count": null,
   "metadata": {},
   "outputs": [],
   "source": []
  },
  {
   "cell_type": "code",
   "execution_count": null,
   "metadata": {},
   "outputs": [],
   "source": []
  },
  {
   "cell_type": "code",
   "execution_count": null,
   "metadata": {},
   "outputs": [],
   "source": []
  }
 ],
 "metadata": {
  "kernelspec": {
   "display_name": "Python 3",
   "language": "python",
   "name": "python3"
  },
  "language_info": {
   "codemirror_mode": {
    "name": "ipython",
    "version": 3
   },
   "file_extension": ".py",
   "mimetype": "text/x-python",
   "name": "python",
   "nbconvert_exporter": "python",
   "pygments_lexer": "ipython3",
   "version": "3.8.3"
  }
 },
 "nbformat": 4,
 "nbformat_minor": 4
}
