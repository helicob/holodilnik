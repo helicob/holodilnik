{
 "cells": [
  {
   "cell_type": "markdown",
   "metadata": {},
   "source": [
    "## Домашнее задание №1 - Линейная алгебра. Матрицы"
   ]
  },
  {
   "cell_type": "markdown",
   "metadata": {},
   "source": [
    "### Задание 1."
   ]
  },
  {
   "cell_type": "markdown",
   "metadata": {},
   "source": [
    "Создайте случайную матрицу $А_1$ размерностью $5$ на $5$. Вычислить транспонированную матрицу $A^T$ и найти обратную матрицу $A^{-1}$\n",
    "Найдите определитель и ранг каждой полученной матрицы."
   ]
  },
  {
   "cell_type": "code",
   "execution_count": 1,
   "metadata": {},
   "outputs": [],
   "source": [
    "import numpy as np"
   ]
  },
  {
   "cell_type": "code",
   "execution_count": 2,
   "metadata": {
    "scrolled": false
   },
   "outputs": [
    {
     "data": {
      "text/plain": [
       "array([[0.27791219, 0.50436351, 0.81718371, 0.34115087, 0.05197115],\n",
       "       [0.81287353, 0.53737781, 0.88940041, 0.02795183, 0.37041924],\n",
       "       [0.49917093, 0.44635917, 0.6887477 , 0.80963044, 0.80682717],\n",
       "       [0.82283032, 0.88250679, 0.415018  , 0.08390875, 0.83434394],\n",
       "       [0.4991103 , 0.81584782, 0.28004119, 0.97623099, 0.56215358]])"
      ]
     },
     "execution_count": 2,
     "metadata": {},
     "output_type": "execute_result"
    }
   ],
   "source": [
    "mtrx = np.random.random((5, 5))\n",
    "mtrx"
   ]
  },
  {
   "cell_type": "code",
   "execution_count": 3,
   "metadata": {},
   "outputs": [
    {
     "data": {
      "text/plain": [
       "0.1362274335002792"
      ]
     },
     "execution_count": 3,
     "metadata": {},
     "output_type": "execute_result"
    }
   ],
   "source": [
    "np.linalg.det(mtrx) # детерминант"
   ]
  },
  {
   "cell_type": "code",
   "execution_count": 4,
   "metadata": {},
   "outputs": [
    {
     "data": {
      "text/plain": [
       "5"
      ]
     },
     "execution_count": 4,
     "metadata": {},
     "output_type": "execute_result"
    }
   ],
   "source": [
    "np.linalg.matrix_rank(mtrx) # ранг"
   ]
  },
  {
   "cell_type": "code",
   "execution_count": 5,
   "metadata": {
    "scrolled": true
   },
   "outputs": [
    {
     "data": {
      "text/plain": [
       "array([[0.27791219, 0.81287353, 0.49917093, 0.82283032, 0.4991103 ],\n",
       "       [0.50436351, 0.53737781, 0.44635917, 0.88250679, 0.81584782],\n",
       "       [0.81718371, 0.88940041, 0.6887477 , 0.415018  , 0.28004119],\n",
       "       [0.34115087, 0.02795183, 0.80963044, 0.08390875, 0.97623099],\n",
       "       [0.05197115, 0.37041924, 0.80682717, 0.83434394, 0.56215358]])"
      ]
     },
     "execution_count": 5,
     "metadata": {},
     "output_type": "execute_result"
    }
   ],
   "source": [
    "mtrx_t = np.transpose(mtrx) # транспонированная\n",
    "mtrx_t"
   ]
  },
  {
   "cell_type": "code",
   "execution_count": 6,
   "metadata": {},
   "outputs": [
    {
     "data": {
      "text/plain": [
       "0.1362274335002791"
      ]
     },
     "execution_count": 6,
     "metadata": {},
     "output_type": "execute_result"
    }
   ],
   "source": [
    "np.linalg.det(mtrx_t) # детерминант транспонированной"
   ]
  },
  {
   "cell_type": "code",
   "execution_count": 7,
   "metadata": {},
   "outputs": [
    {
     "data": {
      "text/plain": [
       "5"
      ]
     },
     "execution_count": 7,
     "metadata": {},
     "output_type": "execute_result"
    }
   ],
   "source": [
    "np.linalg.matrix_rank(mtrx_t) # ранг"
   ]
  },
  {
   "cell_type": "code",
   "execution_count": 8,
   "metadata": {
    "scrolled": true
   },
   "outputs": [
    {
     "data": {
      "text/plain": [
       "array([[-2.55187136,  3.19104723, -0.80525973, -1.55856439,  1.60220022],\n",
       "       [ 1.72670037, -1.52549711, -1.01162569,  1.44340974,  0.1551921 ],\n",
       "       [ 1.25572284, -0.28494748,  0.72252353,  0.04616791, -1.03385068],\n",
       "       [-0.56934652,  0.55892878,  0.19462524, -1.17353789,  1.14676299],\n",
       "       [ 0.12292041, -1.44792749,  1.48520001,  1.30392836, -1.34531308]])"
      ]
     },
     "execution_count": 8,
     "metadata": {},
     "output_type": "execute_result"
    }
   ],
   "source": [
    "mtrx_inv = np.linalg.inv(mtrx) # обратная\n",
    "mtrx_inv"
   ]
  },
  {
   "cell_type": "code",
   "execution_count": 9,
   "metadata": {},
   "outputs": [
    {
     "data": {
      "text/plain": [
       "7.340665344017885"
      ]
     },
     "execution_count": 9,
     "metadata": {},
     "output_type": "execute_result"
    }
   ],
   "source": [
    "np.linalg.det(mtrx_inv) # детерминант обратной"
   ]
  },
  {
   "cell_type": "code",
   "execution_count": 10,
   "metadata": {},
   "outputs": [
    {
     "data": {
      "text/plain": [
       "5"
      ]
     },
     "execution_count": 10,
     "metadata": {},
     "output_type": "execute_result"
    }
   ],
   "source": [
    "np.linalg.matrix_rank(mtrx_inv) # ранг"
   ]
  },
  {
   "cell_type": "markdown",
   "metadata": {},
   "source": [
    "### Задание 2."
   ]
  },
  {
   "cell_type": "markdown",
   "metadata": {},
   "source": [
    "Создайте диагональную матрицу, поэлементно перемножив единичную матрицу $I$ и случайную матрицу $A_2$ размерности $6$ на $6$ \n",
    "Найдите определитель и ранг полученной матрицы.   "
   ]
  },
  {
   "cell_type": "code",
   "execution_count": 25,
   "metadata": {
    "scrolled": true
   },
   "outputs": [
    {
     "data": {
      "text/plain": [
       "array([[0.41766678, 0.99580449, 0.04949137, 0.43052894, 0.86422162,\n",
       "        0.32057017],\n",
       "       [0.96850592, 0.37982489, 0.81350463, 0.94019259, 0.71233881,\n",
       "        0.86414075],\n",
       "       [0.24669324, 0.83288741, 0.78404294, 0.31751833, 0.66857358,\n",
       "        0.96968117],\n",
       "       [0.81949035, 0.46435468, 0.42103675, 0.40466895, 0.11527404,\n",
       "        0.52467498],\n",
       "       [0.32466013, 0.8143644 , 0.33350847, 0.1650178 , 0.24321692,\n",
       "        0.61835148],\n",
       "       [0.16899774, 0.3015087 , 0.34787061, 0.38072274, 0.6195959 ,\n",
       "        0.34347907]])"
      ]
     },
     "execution_count": 25,
     "metadata": {},
     "output_type": "execute_result"
    }
   ],
   "source": [
    "i = np.eye(6)\n",
    "a2 = np.random.random((6, 6))\n",
    "res = np.dot(i, a2) # перемножение матриц\n",
    "res"
   ]
  },
  {
   "cell_type": "code",
   "execution_count": 26,
   "metadata": {},
   "outputs": [
    {
     "data": {
      "text/plain": [
       "0.0017129268754525143"
      ]
     },
     "execution_count": 26,
     "metadata": {},
     "output_type": "execute_result"
    }
   ],
   "source": [
    "np.linalg.det(res) # детерминант"
   ]
  },
  {
   "cell_type": "code",
   "execution_count": 27,
   "metadata": {},
   "outputs": [
    {
     "data": {
      "text/plain": [
       "6"
      ]
     },
     "execution_count": 27,
     "metadata": {},
     "output_type": "execute_result"
    }
   ],
   "source": [
    "np.linalg.matrix_rank(res) # ранг"
   ]
  },
  {
   "cell_type": "markdown",
   "metadata": {},
   "source": [
    "### Задание 3."
   ]
  },
  {
   "cell_type": "markdown",
   "metadata": {},
   "source": [
    "Далее давайте представим изображения в виде матриц и также определим их свойства. \n",
    "Для первых $10$ цифр (от $0$ до $9$) из тестовой базы рукописных цифр (MNIST) определить какая из этих цифр имеет максимальный ранг?"
   ]
  },
  {
   "cell_type": "code",
   "execution_count": 23,
   "metadata": {},
   "outputs": [],
   "source": [
    "import numpy as np\n",
    "from sklearn.datasets import load_digits\n",
    "import matplotlib.pyplot as plt\n",
    "digits = load_digits()"
   ]
  },
  {
   "cell_type": "code",
   "execution_count": 34,
   "metadata": {},
   "outputs": [
    {
     "data": {
      "text/plain": [
       "<Figure size 432x288 with 0 Axes>"
      ]
     },
     "metadata": {},
     "output_type": "display_data"
    },
    {
     "data": {
      "image/png": "[encoded data removed]",
      "text/plain": [
       "<Figure size 288x288 with 1 Axes>"
      ]
     },
     "metadata": {
      "needs_background": "light"
     },
     "output_type": "display_data"
    }
   ],
   "source": [
    "plt.gray();\n",
    "plt.matshow(digits.images[0]);\n",
    "plt.show()"
   ]
  },
  {
   "cell_type": "code",
   "execution_count": 13,
   "metadata": {},
   "outputs": [],
   "source": [
    "matrix = digits.images[0]"
   ]
  },
  {
   "cell_type": "code",
   "execution_count": 46,
   "metadata": {},
   "outputs": [
    {
     "name": "stdout",
     "output_type": "stream",
     "text": [
      "Максимальный ранг матриц(ы): 7. Этот ранг у матриц(ы) изображающий цифры/цифру: 7\n"
     ]
    }
   ],
   "source": [
    "max_rank = 0\n",
    "d = {}\n",
    "\n",
    "for i in range(10):\n",
    "#     plt.gray()\n",
    "#     plt.matshow(digits.images[i])\n",
    "#     plt.show()\n",
    "    matrix = digits.images[i]\n",
    "    d[i] = np.linalg.matrix_rank(matrix) # запихиваю в словарь\n",
    "\n",
    "max_val = max(d.values()) # максимальное значение в словаре\n",
    "final_dict = {k:v for k, v in d.items() if v == max_val} # пересобираю словарь таким образом, чтобы остались только кеи с максимальным значением\n",
    "print(f'Максимальный ранг матриц(ы): ' + str(max_val) + '. Этот ранг у матриц(ы) изображающий цифры/цифру: ' + str(list(final_dict.keys())).strip('[]'))"
   ]
  },
  {
   "cell_type": "markdown",
   "metadata": {},
   "source": [
    "### Задание 4."
   ]
  },
  {
   "cell_type": "markdown",
   "metadata": {},
   "source": [
    "Для первых $10$ цифр (от $0$ до $9$) из тестовой базы рукописных цифр (MNIST) найдите все собственные числа. Для каких цифр все собственные значения не являются комплексными? Подробнее о комплексных числах можно почитать [здесь](https://ru.wikipedia.org/wiki/%D0%9A%D0%BE%D0%BC%D0%BF%D0%BB%D0%B5%D0%BA%D1%81%D0%BD%D0%BE%D0%B5_%D1%87%D0%B8%D1%81%D0%BB%D0%BE) "
   ]
  },
  {
   "cell_type": "code",
   "execution_count": 82,
   "metadata": {},
   "outputs": [
    {
     "name": "stdout",
     "output_type": "stream",
     "text": [
      "0, 2, 6\n"
     ]
    }
   ],
   "source": [
    "res = []\n",
    "\n",
    "for i in range(10):\n",
    "    matrix = digits.images[i]\n",
    "    eigvals = np.linalg.eigvals(matrix)\n",
    "    if eigvals.dtype == 'float64':\n",
    "        res.append(i)\n",
    "\n",
    "print(str(res).strip('[]'))"
   ]
  }
 ],
 "metadata": {
  "kernelspec": {
   "display_name": "Python 3",
   "language": "python",
   "name": "python3"
  },
  "language_info": {
   "codemirror_mode": {
    "name": "ipython",
    "version": 3
   },
   "file_extension": ".py",
   "mimetype": "text/x-python",
   "name": "python",
   "nbconvert_exporter": "python",
   "pygments_lexer": "ipython3",
   "version": "3.8.3"
  }
 },
 "nbformat": 4,
 "nbformat_minor": 4
}
