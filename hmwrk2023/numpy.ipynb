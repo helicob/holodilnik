{
 "cells": [
  {
   "cell_type": "code",
   "execution_count": 37,
   "id": "f352edfd",
   "metadata": {},
   "outputs": [],
   "source": [
    "import numpy as np\n",
    "from numpy import linalg"
   ]
  },
  {
   "cell_type": "code",
   "execution_count": 38,
   "id": "96e7eaaa",
   "metadata": {},
   "outputs": [
    {
     "data": {
      "text/plain": [
       "array([9, 8, 7, 6, 5, 4, 3, 2, 1, 0])"
      ]
     },
     "execution_count": 38,
     "metadata": {},
     "output_type": "execute_result"
    }
   ],
   "source": [
    "# Задание 1\n",
    "# Создайте numpy array с элементами от числа N до 0. Например, для N = 10 это будет array([9, 8, 7, 6, 5, 4, 3, 2, 1, 0])).\n",
    "\n",
    "N = 10\n",
    "\n",
    "np_arr = np.arange(0, N)\n",
    "np_arr_flipped = np.flip(np_arr)\n",
    "np_arr_flipped"
   ]
  },
  {
   "cell_type": "code",
   "execution_count": 39,
   "id": "7604e2b8",
   "metadata": {
    "scrolled": true
   },
   "outputs": [
    {
     "data": {
      "text/plain": [
       "45"
      ]
     },
     "execution_count": 39,
     "metadata": {},
     "output_type": "execute_result"
    }
   ],
   "source": [
    "# Задание 2\n",
    "# Создайте диагональную матрицу с элементами от N до 0. Посчитайте сумму её значений на диагонали.\n",
    "\n",
    "mtrx = np.diag(np_arr_flipped)\n",
    "np.trace(mtrx)"
   ]
  },
  {
   "cell_type": "code",
   "execution_count": 40,
   "id": "79bcad93",
   "metadata": {},
   "outputs": [
    {
     "data": {
      "text/plain": [
       "array([ 0.46666667,  3.84444444, -5.55555556])"
      ]
     },
     "execution_count": 40,
     "metadata": {},
     "output_type": "execute_result"
    }
   ],
   "source": [
    "# Задание 3\n",
    "# Решите систему уравнений:\n",
    "# 4x + 2y + z = 4\n",
    "# x + 3y = 12\n",
    "# 5y + 4z = -3\n",
    "\n",
    "a = np.array([[4, 2, 1], [1, 3, 0], [0, 5, 4]])\n",
    "b = np.array([4, 12, -3])\n",
    "\n",
    "linalg.solve(a, b)"
   ]
  },
  {
   "cell_type": "code",
   "execution_count": 42,
   "id": "0dedccdc",
   "metadata": {},
   "outputs": [],
   "source": [
    "# Задание 4\n",
    "# Имеется матрица покупок в интернет-магазине. Столбец А - ID пользователя.\n",
    "# Остальные столбцы - количество покупок категорий товаров этим пользователем:\n",
    "\n",
    "users_stats = np.array(\n",
    "    [\n",
    "        [2, 1, 0, 0, 0, 0],\n",
    "        [1, 1, 2, 1, 0, 0],\n",
    "        [2, 0, 1, 0, 0, 0],\n",
    "        [1, 1, 2, 1, 0, 1],\n",
    "        [0, 0, 1, 2, 0, 0],\n",
    "        [0, 0, 0, 0, 0, 5],\n",
    "        [1, 0, 0, 0, 0, 0],\n",
    "        [0, 1, 1, 0, 0, 0],\n",
    "        [0, 0, 0, 1, 1, 3],\n",
    "        [1, 0, 0, 2, 1, 4]\n",
    "    ], \n",
    "    np.int32\n",
    ")\n",
    "\n",
    "# На сайт заходит очередной посетитель, о покупках которого известно следующее:\n",
    "\n",
    "next_user_stats = np.array([0, 1, 2, 0, 0, 0])\n",
    "\n",
    "# Найдите самого похожего пользователя. Т. е. посчитайте косинусное сходство между \n",
    "# этим пользователем и всеми пользователями из массива user_stats\n",
    "\n",
    "def cosine( a, b ):\n",
    "    \"\"\"\n",
    "    Подсчет косинуса угла между векторами a, b по их координатам\n",
    "    \"\"\"\n",
    "    \n",
    "    # длины векторов\n",
    "    aLength = np.linalg.norm( a )\n",
    "    bLength = np.linalg.norm( b )\n",
    "    \n",
    "    return np.dot( a, b ) / ( aLength * bLength )"
   ]
  },
  {
   "cell_type": "code",
   "execution_count": 64,
   "id": "0f70ba25",
   "metadata": {
    "scrolled": false
   },
   "outputs": [
    {
     "data": {
      "text/plain": [
       "8"
      ]
     },
     "execution_count": 64,
     "metadata": {},
     "output_type": "execute_result"
    }
   ],
   "source": [
    "cosine_similarity_dict = {} # юзер айди из таблицы: коэффициент косинусного сходства между этим юзером и next_user\n",
    "\n",
    "for user_id, user in enumerate(users_stats):\n",
    "    user_id += 1 # добавил единицу, чтобы айди юзеров соответствовало айди в таблице\n",
    "\n",
    "#     ax = plt.axes() # этот блок рисует график сопоставления кривых\n",
    "#     print(user_id)\n",
    "#     plt.xlim([0, 5])\n",
    "#     plt.ylim([0, 5])\n",
    "#     plt.plot(next_user_stats)\n",
    "#     plt.plot(user)\n",
    "#     plt.show()\n",
    "    \n",
    "    cosine_similarity_dict[user_id] = cosine(user, next_user_stats)\n",
    "    \n",
    "best_match_user_id = max(cosine_similarity_dict, key=cosine_similarity_dict.get)\n",
    "best_match_user_id"
   ]
  }
 ],
 "metadata": {
  "kernelspec": {
   "display_name": "Python 3 (ipykernel)",
   "language": "python",
   "name": "python3"
  },
  "language_info": {
   "codemirror_mode": {
    "name": "ipython",
    "version": 3
   },
   "file_extension": ".py",
   "mimetype": "text/x-python",
   "name": "python",
   "nbconvert_exporter": "python",
   "pygments_lexer": "ipython3",
   "version": "3.9.7"
  }
 },
 "nbformat": 4,
 "nbformat_minor": 5
}
